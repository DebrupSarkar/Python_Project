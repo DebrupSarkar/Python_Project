{
  "nbformat": 4,
  "nbformat_minor": 0,
  "metadata": {
    "kernelspec": {
      "display_name": "Python 3",
      "language": "python",
      "name": "python3"
    },
    "language_info": {
      "codemirror_mode": {
        "name": "ipython",
        "version": 3
      },
      "file_extension": ".py",
      "mimetype": "text/x-python",
      "name": "python",
      "nbconvert_exporter": "python",
      "pygments_lexer": "ipython3",
      "version": "3.8.5"
    },
    "colab": {
      "name": "Stroke Prediction 26.02.21.ipynb",
      "provenance": []
    }
  },
  "cells": [
    {
      "cell_type": "code",
      "metadata": {
        "id": "2I4S1B2K1DYx"
      },
      "source": [
        "import pandas as pd\n",
        "import seaborn as sns\n",
        "import numpy as np\n",
        "import matplotlib.pyplot as plt"
      ],
      "execution_count": null,
      "outputs": []
    },
    {
      "cell_type": "code",
      "metadata": {
        "id": "7bm9PMmR1DY1"
      },
      "source": [
        "df=pd.read_csv('stroke_data.csv')"
      ],
      "execution_count": null,
      "outputs": []
    },
    {
      "cell_type": "code",
      "metadata": {
        "id": "iFOW51x11DY2",
        "outputId": "2cfeba4e-5558-4168-b57d-7fb324129ef9"
      },
      "source": [
        "df.head()"
      ],
      "execution_count": null,
      "outputs": [
        {
          "data": {
            "text/html": [
              "<div>\n",
              "<style scoped>\n",
              "    .dataframe tbody tr th:only-of-type {\n",
              "        vertical-align: middle;\n",
              "    }\n",
              "\n",
              "    .dataframe tbody tr th {\n",
              "        vertical-align: top;\n",
              "    }\n",
              "\n",
              "    .dataframe thead th {\n",
              "        text-align: right;\n",
              "    }\n",
              "</style>\n",
              "<table border=\"1\" class=\"dataframe\">\n",
              "  <thead>\n",
              "    <tr style=\"text-align: right;\">\n",
              "      <th></th>\n",
              "      <th>gender</th>\n",
              "      <th>age</th>\n",
              "      <th>hypertension</th>\n",
              "      <th>heart_disease</th>\n",
              "      <th>ever_married</th>\n",
              "      <th>work_type</th>\n",
              "      <th>Residence_type</th>\n",
              "      <th>avg_glucose_level</th>\n",
              "      <th>bmi</th>\n",
              "      <th>smoking_status</th>\n",
              "      <th>stroke</th>\n",
              "    </tr>\n",
              "  </thead>\n",
              "  <tbody>\n",
              "    <tr>\n",
              "      <th>0</th>\n",
              "      <td>Male</td>\n",
              "      <td>58.0</td>\n",
              "      <td>1</td>\n",
              "      <td>0</td>\n",
              "      <td>Yes</td>\n",
              "      <td>Private</td>\n",
              "      <td>Urban</td>\n",
              "      <td>87.96</td>\n",
              "      <td>39.2</td>\n",
              "      <td>never smoked</td>\n",
              "      <td>0</td>\n",
              "    </tr>\n",
              "    <tr>\n",
              "      <th>1</th>\n",
              "      <td>Female</td>\n",
              "      <td>70.0</td>\n",
              "      <td>0</td>\n",
              "      <td>0</td>\n",
              "      <td>Yes</td>\n",
              "      <td>Private</td>\n",
              "      <td>Rural</td>\n",
              "      <td>69.04</td>\n",
              "      <td>35.9</td>\n",
              "      <td>formerly smoked</td>\n",
              "      <td>0</td>\n",
              "    </tr>\n",
              "    <tr>\n",
              "      <th>2</th>\n",
              "      <td>Female</td>\n",
              "      <td>52.0</td>\n",
              "      <td>0</td>\n",
              "      <td>0</td>\n",
              "      <td>Yes</td>\n",
              "      <td>Private</td>\n",
              "      <td>Urban</td>\n",
              "      <td>77.59</td>\n",
              "      <td>17.7</td>\n",
              "      <td>formerly smoked</td>\n",
              "      <td>0</td>\n",
              "    </tr>\n",
              "    <tr>\n",
              "      <th>3</th>\n",
              "      <td>Female</td>\n",
              "      <td>75.0</td>\n",
              "      <td>0</td>\n",
              "      <td>1</td>\n",
              "      <td>Yes</td>\n",
              "      <td>Self-employed</td>\n",
              "      <td>Rural</td>\n",
              "      <td>243.53</td>\n",
              "      <td>27.0</td>\n",
              "      <td>never smoked</td>\n",
              "      <td>0</td>\n",
              "    </tr>\n",
              "    <tr>\n",
              "      <th>4</th>\n",
              "      <td>Female</td>\n",
              "      <td>32.0</td>\n",
              "      <td>0</td>\n",
              "      <td>0</td>\n",
              "      <td>Yes</td>\n",
              "      <td>Private</td>\n",
              "      <td>Rural</td>\n",
              "      <td>77.67</td>\n",
              "      <td>32.3</td>\n",
              "      <td>smokes</td>\n",
              "      <td>0</td>\n",
              "    </tr>\n",
              "  </tbody>\n",
              "</table>\n",
              "</div>"
            ],
            "text/plain": [
              "   gender   age  hypertension  heart_disease ever_married      work_type  \\\n",
              "0    Male  58.0             1              0          Yes        Private   \n",
              "1  Female  70.0             0              0          Yes        Private   \n",
              "2  Female  52.0             0              0          Yes        Private   \n",
              "3  Female  75.0             0              1          Yes  Self-employed   \n",
              "4  Female  32.0             0              0          Yes        Private   \n",
              "\n",
              "  Residence_type  avg_glucose_level   bmi   smoking_status  stroke  \n",
              "0          Urban              87.96  39.2     never smoked       0  \n",
              "1          Rural              69.04  35.9  formerly smoked       0  \n",
              "2          Urban              77.59  17.7  formerly smoked       0  \n",
              "3          Rural             243.53  27.0     never smoked       0  \n",
              "4          Rural              77.67  32.3           smokes       0  "
            ]
          },
          "execution_count": 3,
          "metadata": {},
          "output_type": "execute_result"
        }
      ]
    },
    {
      "cell_type": "markdown",
      "metadata": {
        "id": "nxAo7S0l1DY4"
      },
      "source": [
        "*This is our given data and the task is to predict the probability of stroke in a person , given their lifestyle ,\n",
        "medical history, age , gender etc*"
      ]
    },
    {
      "cell_type": "markdown",
      "metadata": {
        "id": "5njJ1ja21DY7"
      },
      "source": [
        "**EXPLORATORY DATA ANALYSIS - The following section is aimed at exploring the given data and finding out meaningful relationships \n",
        "among the various parameters to predict stroke probability in a person. This also represents how the probability varies \n",
        "according to age , gender , lifestyle choice s, job type , medical conditions etc through the use of plotting tools of \n",
        "seaborn library like graphs and charts to convey the conclusions better and in a visually appealing manner**"
      ]
    },
    {
      "cell_type": "markdown",
      "metadata": {
        "id": "Hgl8GI5K1DY8"
      },
      "source": [
        "*Before we proceed to EDA , data cleaning has been done to examine if any null values are present in any column. If null values\n",
        "are present , the empty elements are filled with 0 or NA to reduce discrepancies in EDA.*"
      ]
    },
    {
      "cell_type": "code",
      "metadata": {
        "id": "4FbLmN9D1DY9",
        "outputId": "382e0878-77bd-4316-a782-cc5d6c92dbd8"
      },
      "source": [
        "df.isnull().sum()               #this gives sum of null value for each column "
      ],
      "execution_count": null,
      "outputs": [
        {
          "data": {
            "text/plain": [
              "gender               0\n",
              "age                  0\n",
              "hypertension         0\n",
              "heart_disease        0\n",
              "ever_married         0\n",
              "work_type            0\n",
              "Residence_type       0\n",
              "avg_glucose_level    0\n",
              "bmi                  0\n",
              "smoking_status       0\n",
              "stroke               0\n",
              "dtype: int64"
            ]
          },
          "execution_count": 4,
          "metadata": {},
          "output_type": "execute_result"
        }
      ]
    },
    {
      "cell_type": "markdown",
      "metadata": {
        "id": "fzbWFxxr1DY9"
      },
      "source": [
        "*Clearly , there are no null values in the csv file so we can readily perform EDA now*"
      ]
    },
    {
      "cell_type": "markdown",
      "metadata": {
        "id": "Pl4pWFDD1DY-"
      },
      "source": [
        "Exploring the age column :-"
      ]
    },
    {
      "cell_type": "markdown",
      "metadata": {
        "id": "s8p8lRMm1DY-"
      },
      "source": [
        "***As we can see, the age column has extremely diverse values and hence it would make sense to make a new column in the \n",
        "file which groups people according to their age group. People having age 20 or 24 are likely to have the same conditions ,\n",
        "so they are grouped together in a new column called \"AGE GROUP\"***"
      ]
    },
    {
      "cell_type": "code",
      "metadata": {
        "id": "hxPFDsWh1DY_"
      },
      "source": [
        "df['AGE GROUP']=df['age'] //10"
      ],
      "execution_count": null,
      "outputs": []
    },
    {
      "cell_type": "code",
      "metadata": {
        "id": "Tx-MN4SK1DY_",
        "outputId": "2b2f2cef-20c8-4325-c4a3-78b386d512a1"
      },
      "source": [
        "df.head()          #shows updated table with the new column that was created by the name of \"AGE GROUP\" "
      ],
      "execution_count": null,
      "outputs": [
        {
          "data": {
            "text/html": [
              "<div>\n",
              "<style scoped>\n",
              "    .dataframe tbody tr th:only-of-type {\n",
              "        vertical-align: middle;\n",
              "    }\n",
              "\n",
              "    .dataframe tbody tr th {\n",
              "        vertical-align: top;\n",
              "    }\n",
              "\n",
              "    .dataframe thead th {\n",
              "        text-align: right;\n",
              "    }\n",
              "</style>\n",
              "<table border=\"1\" class=\"dataframe\">\n",
              "  <thead>\n",
              "    <tr style=\"text-align: right;\">\n",
              "      <th></th>\n",
              "      <th>gender</th>\n",
              "      <th>age</th>\n",
              "      <th>hypertension</th>\n",
              "      <th>heart_disease</th>\n",
              "      <th>ever_married</th>\n",
              "      <th>work_type</th>\n",
              "      <th>Residence_type</th>\n",
              "      <th>avg_glucose_level</th>\n",
              "      <th>bmi</th>\n",
              "      <th>smoking_status</th>\n",
              "      <th>stroke</th>\n",
              "      <th>AGE GROUP</th>\n",
              "    </tr>\n",
              "  </thead>\n",
              "  <tbody>\n",
              "    <tr>\n",
              "      <th>0</th>\n",
              "      <td>Male</td>\n",
              "      <td>58.0</td>\n",
              "      <td>1</td>\n",
              "      <td>0</td>\n",
              "      <td>Yes</td>\n",
              "      <td>Private</td>\n",
              "      <td>Urban</td>\n",
              "      <td>87.96</td>\n",
              "      <td>39.2</td>\n",
              "      <td>never smoked</td>\n",
              "      <td>0</td>\n",
              "      <td>5.0</td>\n",
              "    </tr>\n",
              "    <tr>\n",
              "      <th>1</th>\n",
              "      <td>Female</td>\n",
              "      <td>70.0</td>\n",
              "      <td>0</td>\n",
              "      <td>0</td>\n",
              "      <td>Yes</td>\n",
              "      <td>Private</td>\n",
              "      <td>Rural</td>\n",
              "      <td>69.04</td>\n",
              "      <td>35.9</td>\n",
              "      <td>formerly smoked</td>\n",
              "      <td>0</td>\n",
              "      <td>7.0</td>\n",
              "    </tr>\n",
              "    <tr>\n",
              "      <th>2</th>\n",
              "      <td>Female</td>\n",
              "      <td>52.0</td>\n",
              "      <td>0</td>\n",
              "      <td>0</td>\n",
              "      <td>Yes</td>\n",
              "      <td>Private</td>\n",
              "      <td>Urban</td>\n",
              "      <td>77.59</td>\n",
              "      <td>17.7</td>\n",
              "      <td>formerly smoked</td>\n",
              "      <td>0</td>\n",
              "      <td>5.0</td>\n",
              "    </tr>\n",
              "    <tr>\n",
              "      <th>3</th>\n",
              "      <td>Female</td>\n",
              "      <td>75.0</td>\n",
              "      <td>0</td>\n",
              "      <td>1</td>\n",
              "      <td>Yes</td>\n",
              "      <td>Self-employed</td>\n",
              "      <td>Rural</td>\n",
              "      <td>243.53</td>\n",
              "      <td>27.0</td>\n",
              "      <td>never smoked</td>\n",
              "      <td>0</td>\n",
              "      <td>7.0</td>\n",
              "    </tr>\n",
              "    <tr>\n",
              "      <th>4</th>\n",
              "      <td>Female</td>\n",
              "      <td>32.0</td>\n",
              "      <td>0</td>\n",
              "      <td>0</td>\n",
              "      <td>Yes</td>\n",
              "      <td>Private</td>\n",
              "      <td>Rural</td>\n",
              "      <td>77.67</td>\n",
              "      <td>32.3</td>\n",
              "      <td>smokes</td>\n",
              "      <td>0</td>\n",
              "      <td>3.0</td>\n",
              "    </tr>\n",
              "  </tbody>\n",
              "</table>\n",
              "</div>"
            ],
            "text/plain": [
              "   gender   age  hypertension  heart_disease ever_married      work_type  \\\n",
              "0    Male  58.0             1              0          Yes        Private   \n",
              "1  Female  70.0             0              0          Yes        Private   \n",
              "2  Female  52.0             0              0          Yes        Private   \n",
              "3  Female  75.0             0              1          Yes  Self-employed   \n",
              "4  Female  32.0             0              0          Yes        Private   \n",
              "\n",
              "  Residence_type  avg_glucose_level   bmi   smoking_status  stroke  AGE GROUP  \n",
              "0          Urban              87.96  39.2     never smoked       0        5.0  \n",
              "1          Rural              69.04  35.9  formerly smoked       0        7.0  \n",
              "2          Urban              77.59  17.7  formerly smoked       0        5.0  \n",
              "3          Rural             243.53  27.0     never smoked       0        7.0  \n",
              "4          Rural              77.67  32.3           smokes       0        3.0  "
            ]
          },
          "execution_count": 6,
          "metadata": {},
          "output_type": "execute_result"
        }
      ]
    },
    {
      "cell_type": "code",
      "metadata": {
        "id": "ZHbcEXcF1DZA",
        "outputId": "7721f6e7-80c4-4696-9e41-98963153b583"
      },
      "source": [
        "plt.figure(dpi=100)\n",
        "sns.barplot(x='AGE GROUP' , y='stroke' ,data=df ,palette= 'mako')"
      ],
      "execution_count": null,
      "outputs": [
        {
          "data": {
            "text/plain": [
              "<AxesSubplot:xlabel='AGE GROUP', ylabel='stroke'>"
            ]
          },
          "execution_count": 7,
          "metadata": {},
          "output_type": "execute_result"
        },
        {
          "data": {
            "image/png": "[encoded data removed]",
            "text/plain": [
              "<Figure size 600x400 with 1 Axes>"
            ]
          },
          "metadata": {
            "needs_background": "light"
          },
          "output_type": "display_data"
        }
      ]
    },
    {
      "cell_type": "markdown",
      "metadata": {
        "id": "WDebT3Wr1DZA"
      },
      "source": [
        "This is a bar graph with \"age group\" column as x axis and \"stroke\" as y axis. The bar graph shows that the greatest \n",
        "probability for stroke occurs in the age group of 80-89 years and this possibility gradually increases with a persons age."
      ]
    },
    {
      "cell_type": "markdown",
      "metadata": {
        "id": "Mdp_zqhH1DZB"
      },
      "source": [
        "*Exploring the relationship between age and stroke probability across the various genders*"
      ]
    },
    {
      "cell_type": "code",
      "metadata": {
        "id": "6DA1LY171DZB",
        "outputId": "c894371a-c75f-4788-bf3b-2fda0a4f85ef"
      },
      "source": [
        "plt.figure(dpi=100)\n",
        "sns.barplot(x='AGE GROUP' , y='stroke' ,data=df ,palette= 'mako' , hue='gender')"
      ],
      "execution_count": null,
      "outputs": [
        {
          "data": {
            "text/plain": [
              "<AxesSubplot:xlabel='AGE GROUP', ylabel='stroke'>"
            ]
          },
          "execution_count": 8,
          "metadata": {},
          "output_type": "execute_result"
        },
        {
          "data": {
            "image/png": "[encoded data removed]",
            "text/plain": [
              "<Figure size 600x400 with 1 Axes>"
            ]
          },
          "metadata": {
            "needs_background": "light"
          },
          "output_type": "display_data"
        }
      ]
    },
    {
      "cell_type": "markdown",
      "metadata": {
        "id": "5Pu6sxb21DZC"
      },
      "source": [
        "In almost all age groups , men are at greater risk than women , except for the age group 80-89 years where women are at a \n",
        "significantly greater risk than men."
      ]
    },
    {
      "cell_type": "markdown",
      "metadata": {
        "id": "-HhrbbCm1DZC"
      },
      "source": [
        "*Exploring the relationship between the gender and the stroke probability*"
      ]
    },
    {
      "cell_type": "code",
      "metadata": {
        "id": "hWVWLKut1DZD",
        "outputId": "e4feada1-b416-4b38-f7e7-75a64de5cbbe"
      },
      "source": [
        "plt.figure(dpi=100)\n",
        "sns.barplot(x='gender' , y='stroke' ,data=df ,palette= 'mako')"
      ],
      "execution_count": null,
      "outputs": [
        {
          "data": {
            "text/plain": [
              "<AxesSubplot:xlabel='gender', ylabel='stroke'>"
            ]
          },
          "execution_count": 9,
          "metadata": {},
          "output_type": "execute_result"
        },
        {
          "data": {
            "image/png": "[encoded data removed]",
            "text/plain": [
              "<Figure size 600x400 with 1 Axes>"
            ]
          },
          "metadata": {
            "needs_background": "light"
          },
          "output_type": "display_data"
        }
      ]
    },
    {
      "cell_type": "markdown",
      "metadata": {
        "id": "ZAKIFOEP1DZD"
      },
      "source": [
        "Clearly , male patients are more likely to suffer from a stroke than female patients . Probability for males to suffera  stroke \n",
        "is above 0.02 while the probability for females is around 0.017"
      ]
    },
    {
      "cell_type": "markdown",
      "metadata": {
        "id": "Dvzq2RVc1DZE"
      },
      "source": [
        "*Exploring the relation between hypertension and stroke possibility*"
      ]
    },
    {
      "cell_type": "code",
      "metadata": {
        "id": "p5jAImQG1DZE",
        "outputId": "7d34ada1-bed5-40d5-8066-e924ac426219"
      },
      "source": [
        "plt.figure(dpi=100)\n",
        "sns.barplot(x='hypertension' , y='stroke' ,data=df ,palette= 'mako')"
      ],
      "execution_count": null,
      "outputs": [
        {
          "data": {
            "text/plain": [
              "<AxesSubplot:xlabel='hypertension', ylabel='stroke'>"
            ]
          },
          "execution_count": 10,
          "metadata": {},
          "output_type": "execute_result"
        },
        {
          "data": {
            "image/png": "[encoded data removed]",
            "text/plain": [
              "<Figure size 600x400 with 1 Axes>"
            ]
          },
          "metadata": {
            "needs_background": "light"
          },
          "output_type": "display_data"
        }
      ]
    },
    {
      "cell_type": "markdown",
      "metadata": {
        "id": "TXFvd_Zs1DZF"
      },
      "source": [
        "The conclusion drawn from the above bar graph is that people having hypertension are more probable to suffer a stroke than\n",
        "people who do not suffer from it. \n",
        "Here 0 indicates hypertension not present\n",
        "      and 1 indicates hypertension present"
      ]
    },
    {
      "cell_type": "markdown",
      "metadata": {
        "id": "jBfmhi161DZF"
      },
      "source": [
        "*Exploring the relation between hypertension and stroke possibility on the basis of gender of patient*"
      ]
    },
    {
      "cell_type": "code",
      "metadata": {
        "id": "VVQuEoV-1DZG",
        "outputId": "8f84a217-7338-4c01-ceaf-9d34a5d29454"
      },
      "source": [
        "plt.figure(dpi=100)\n",
        "sns.barplot(x='hypertension' , y='stroke' ,data=df ,palette= 'mako' , hue='gender')"
      ],
      "execution_count": null,
      "outputs": [
        {
          "data": {
            "text/plain": [
              "<AxesSubplot:xlabel='hypertension', ylabel='stroke'>"
            ]
          },
          "execution_count": 11,
          "metadata": {},
          "output_type": "execute_result"
        },
        {
          "data": {
            "image/png": "[encoded data removed]",
            "text/plain": [
              "<Figure size 600x400 with 1 Axes>"
            ]
          },
          "metadata": {
            "needs_background": "light"
          },
          "output_type": "display_data"
        }
      ]
    },
    {
      "cell_type": "markdown",
      "metadata": {
        "id": "JWyO3XR71DZG"
      },
      "source": [
        "Female patients of hypertension more probable to suffer a stroke than male patients. Probability for female hypertension \n",
        "patients is above 0.05 whereas for males it is around 0.04. \n",
        "In case hypertension is absent , men are more likely to suffer from a stroke than females."
      ]
    },
    {
      "cell_type": "markdown",
      "metadata": {
        "id": "kornRc2P1DZG"
      },
      "source": [
        "*Exploring the relation between hypertension and stroke possibility on the basis of age group of patient*\n",
        "\n"
      ]
    },
    {
      "cell_type": "code",
      "metadata": {
        "id": "oMtRQpG_1DZH",
        "outputId": "4e068087-800d-4f7c-98e5-3adfe948b8c9"
      },
      "source": [
        "plt.figure(dpi=100)\n",
        "sns.barplot(x='hypertension' , y='stroke' ,data=df ,palette= 'mako' , hue ='AGE GROUP')"
      ],
      "execution_count": null,
      "outputs": [
        {
          "data": {
            "text/plain": [
              "<AxesSubplot:xlabel='hypertension', ylabel='stroke'>"
            ]
          },
          "execution_count": 12,
          "metadata": {},
          "output_type": "execute_result"
        },
        {
          "data": {
            "image/png": "[encoded data removed]",
            "text/plain": [
              "<Figure size 600x400 with 1 Axes>"
            ]
          },
          "metadata": {
            "needs_background": "light"
          },
          "output_type": "display_data"
        }
      ]
    },
    {
      "cell_type": "markdown",
      "metadata": {
        "id": "k4UaXKfU1DZH"
      },
      "source": [
        "People who do not have hypertension , aged 80-89 years are more at risk from a stroke than patients in their 50's or 60's\n",
        "but suffering from hypertension"
      ]
    },
    {
      "cell_type": "markdown",
      "metadata": {
        "id": "SVgv2JSc1DZI"
      },
      "source": [
        "*Exploring the relation between heart disease and stroke possibility*"
      ]
    },
    {
      "cell_type": "code",
      "metadata": {
        "id": "FiXW2YRo1DZI",
        "outputId": "f2da71dd-4ec6-478a-aefb-45b4ce246d90"
      },
      "source": [
        "plt.figure(dpi=100)\n",
        "sns.barplot(x='heart_disease' , y='stroke' ,data=df ,palette= 'mako')"
      ],
      "execution_count": null,
      "outputs": [
        {
          "data": {
            "text/plain": [
              "<AxesSubplot:xlabel='heart_disease', ylabel='stroke'>"
            ]
          },
          "execution_count": 13,
          "metadata": {},
          "output_type": "execute_result"
        },
        {
          "data": {
            "image/png": "[encoded data removed]",
            "text/plain": [
              "<Figure size 600x400 with 1 Axes>"
            ]
          },
          "metadata": {
            "needs_background": "light"
          },
          "output_type": "display_data"
        }
      ]
    },
    {
      "cell_type": "markdown",
      "metadata": {
        "id": "2VvRwDBS1DZJ"
      },
      "source": [
        "People having heart disease are much more likely to suffer a stroke than people not having heart disease. Probability of a person having heart disease to suffer froma stroke is around 0.08 whereas the fraction is below 0.02 otherwise .\n",
        "This indicates a strong correlation between heart disease and stroke probability."
      ]
    },
    {
      "cell_type": "markdown",
      "metadata": {
        "id": "IuZRguek1DZJ"
      },
      "source": [
        "*Exploring the relation between heart disease and stroke possibility on the basis of gender*"
      ]
    },
    {
      "cell_type": "code",
      "metadata": {
        "id": "GaO_J0oK1DZJ",
        "outputId": "68fe0442-96aa-4188-f7c9-b4c818d52280"
      },
      "source": [
        "plt.figure(dpi=100)\n",
        "sns.barplot(x='heart_disease' , y='stroke' ,data=df ,palette= 'mako' , hue='gender')"
      ],
      "execution_count": null,
      "outputs": [
        {
          "data": {
            "text/plain": [
              "<AxesSubplot:xlabel='heart_disease', ylabel='stroke'>"
            ]
          },
          "execution_count": 14,
          "metadata": {},
          "output_type": "execute_result"
        },
        {
          "data": {
            "image/png": "[encoded data removed]",
            "text/plain": [
              "<Figure size 600x400 with 1 Axes>"
            ]
          },
          "metadata": {
            "needs_background": "light"
          },
          "output_type": "display_data"
        }
      ]
    },
    {
      "cell_type": "markdown",
      "metadata": {
        "id": "M0smu9B61DZK"
      },
      "source": [
        "The above graph indicates that females having a heart disease are more likely to suffer from a stroke than men having the heart disease. "
      ]
    },
    {
      "cell_type": "markdown",
      "metadata": {
        "id": "7r1tepty1DZK"
      },
      "source": [
        "*Exploring the relation between the combination of heart disease and hypertension on the stroke probability*"
      ]
    },
    {
      "cell_type": "markdown",
      "metadata": {
        "id": "FwcTFrV61DZK"
      },
      "source": [
        "**Creating a new column combined with data from column hypertension and heartdisease and putting\n",
        " 1 where a patient has both , 0 otherwise.**\n",
        " "
      ]
    },
    {
      "cell_type": "code",
      "metadata": {
        "id": "rxGEWxei1DZL"
      },
      "source": [
        "## finding intersection of two col heart disease and hypertension \n",
        "df['combined'] =df['hypertension'] * df['heart_disease']"
      ],
      "execution_count": null,
      "outputs": []
    },
    {
      "cell_type": "code",
      "metadata": {
        "id": "qoGV0JxV1DZL",
        "outputId": "580c191c-5001-4e0f-8f46-b0094548b0d4"
      },
      "source": [
        "df['combined'].unique()     #seeing all possible values of column \"combined\""
      ],
      "execution_count": null,
      "outputs": [
        {
          "data": {
            "text/plain": [
              "array([0, 1], dtype=int64)"
            ]
          },
          "execution_count": 16,
          "metadata": {},
          "output_type": "execute_result"
        }
      ]
    },
    {
      "cell_type": "code",
      "metadata": {
        "id": "xir_qjCj1DZL",
        "outputId": "c6ba730e-bd19-4a5e-9438-b93e8a5b74af"
      },
      "source": [
        "df.head()      #new column \"combined\" has been added"
      ],
      "execution_count": null,
      "outputs": [
        {
          "data": {
            "text/html": [
              "<div>\n",
              "<style scoped>\n",
              "    .dataframe tbody tr th:only-of-type {\n",
              "        vertical-align: middle;\n",
              "    }\n",
              "\n",
              "    .dataframe tbody tr th {\n",
              "        vertical-align: top;\n",
              "    }\n",
              "\n",
              "    .dataframe thead th {\n",
              "        text-align: right;\n",
              "    }\n",
              "</style>\n",
              "<table border=\"1\" class=\"dataframe\">\n",
              "  <thead>\n",
              "    <tr style=\"text-align: right;\">\n",
              "      <th></th>\n",
              "      <th>gender</th>\n",
              "      <th>age</th>\n",
              "      <th>hypertension</th>\n",
              "      <th>heart_disease</th>\n",
              "      <th>ever_married</th>\n",
              "      <th>work_type</th>\n",
              "      <th>Residence_type</th>\n",
              "      <th>avg_glucose_level</th>\n",
              "      <th>bmi</th>\n",
              "      <th>smoking_status</th>\n",
              "      <th>stroke</th>\n",
              "      <th>AGE GROUP</th>\n",
              "      <th>combined</th>\n",
              "    </tr>\n",
              "  </thead>\n",
              "  <tbody>\n",
              "    <tr>\n",
              "      <th>0</th>\n",
              "      <td>Male</td>\n",
              "      <td>58.0</td>\n",
              "      <td>1</td>\n",
              "      <td>0</td>\n",
              "      <td>Yes</td>\n",
              "      <td>Private</td>\n",
              "      <td>Urban</td>\n",
              "      <td>87.96</td>\n",
              "      <td>39.2</td>\n",
              "      <td>never smoked</td>\n",
              "      <td>0</td>\n",
              "      <td>5.0</td>\n",
              "      <td>0</td>\n",
              "    </tr>\n",
              "    <tr>\n",
              "      <th>1</th>\n",
              "      <td>Female</td>\n",
              "      <td>70.0</td>\n",
              "      <td>0</td>\n",
              "      <td>0</td>\n",
              "      <td>Yes</td>\n",
              "      <td>Private</td>\n",
              "      <td>Rural</td>\n",
              "      <td>69.04</td>\n",
              "      <td>35.9</td>\n",
              "      <td>formerly smoked</td>\n",
              "      <td>0</td>\n",
              "      <td>7.0</td>\n",
              "      <td>0</td>\n",
              "    </tr>\n",
              "    <tr>\n",
              "      <th>2</th>\n",
              "      <td>Female</td>\n",
              "      <td>52.0</td>\n",
              "      <td>0</td>\n",
              "      <td>0</td>\n",
              "      <td>Yes</td>\n",
              "      <td>Private</td>\n",
              "      <td>Urban</td>\n",
              "      <td>77.59</td>\n",
              "      <td>17.7</td>\n",
              "      <td>formerly smoked</td>\n",
              "      <td>0</td>\n",
              "      <td>5.0</td>\n",
              "      <td>0</td>\n",
              "    </tr>\n",
              "    <tr>\n",
              "      <th>3</th>\n",
              "      <td>Female</td>\n",
              "      <td>75.0</td>\n",
              "      <td>0</td>\n",
              "      <td>1</td>\n",
              "      <td>Yes</td>\n",
              "      <td>Self-employed</td>\n",
              "      <td>Rural</td>\n",
              "      <td>243.53</td>\n",
              "      <td>27.0</td>\n",
              "      <td>never smoked</td>\n",
              "      <td>0</td>\n",
              "      <td>7.0</td>\n",
              "      <td>0</td>\n",
              "    </tr>\n",
              "    <tr>\n",
              "      <th>4</th>\n",
              "      <td>Female</td>\n",
              "      <td>32.0</td>\n",
              "      <td>0</td>\n",
              "      <td>0</td>\n",
              "      <td>Yes</td>\n",
              "      <td>Private</td>\n",
              "      <td>Rural</td>\n",
              "      <td>77.67</td>\n",
              "      <td>32.3</td>\n",
              "      <td>smokes</td>\n",
              "      <td>0</td>\n",
              "      <td>3.0</td>\n",
              "      <td>0</td>\n",
              "    </tr>\n",
              "  </tbody>\n",
              "</table>\n",
              "</div>"
            ],
            "text/plain": [
              "   gender   age  hypertension  heart_disease ever_married      work_type  \\\n",
              "0    Male  58.0             1              0          Yes        Private   \n",
              "1  Female  70.0             0              0          Yes        Private   \n",
              "2  Female  52.0             0              0          Yes        Private   \n",
              "3  Female  75.0             0              1          Yes  Self-employed   \n",
              "4  Female  32.0             0              0          Yes        Private   \n",
              "\n",
              "  Residence_type  avg_glucose_level   bmi   smoking_status  stroke  AGE GROUP  \\\n",
              "0          Urban              87.96  39.2     never smoked       0        5.0   \n",
              "1          Rural              69.04  35.9  formerly smoked       0        7.0   \n",
              "2          Urban              77.59  17.7  formerly smoked       0        5.0   \n",
              "3          Rural             243.53  27.0     never smoked       0        7.0   \n",
              "4          Rural              77.67  32.3           smokes       0        3.0   \n",
              "\n",
              "   combined  \n",
              "0         0  \n",
              "1         0  \n",
              "2         0  \n",
              "3         0  \n",
              "4         0  "
            ]
          },
          "execution_count": 17,
          "metadata": {},
          "output_type": "execute_result"
        }
      ]
    },
    {
      "cell_type": "code",
      "metadata": {
        "id": "dtJK2ewZ1DZR",
        "outputId": "23587a20-1b94-4737-b86c-264e52403bfd"
      },
      "source": [
        "plt.figure(dpi=100)\n",
        "sns.barplot(x='combined' , y='stroke' ,data=df ,palette= 'mako')"
      ],
      "execution_count": null,
      "outputs": [
        {
          "data": {
            "text/plain": [
              "<AxesSubplot:xlabel='combined', ylabel='stroke'>"
            ]
          },
          "execution_count": 18,
          "metadata": {},
          "output_type": "execute_result"
        },
        {
          "data": {
            "image/png": "[encoded data removed]",
            "text/plain": [
              "<Figure size 600x400 with 1 Axes>"
            ]
          },
          "metadata": {
            "needs_background": "light"
          },
          "output_type": "display_data"
        }
      ]
    },
    {
      "cell_type": "markdown",
      "metadata": {
        "id": "mlVDFkfN1DZS"
      },
      "source": [
        "Thus it shows that people having both heart disease and hypertension are much more likely to suffer a stroke (0.08) than people who do not have these conditions or have only one of them. "
      ]
    },
    {
      "cell_type": "code",
      "metadata": {
        "id": "TqdESDAU1DZS",
        "outputId": "df8b045e-fd53-4879-d2d3-c7ed9fabe703"
      },
      "source": [
        "plt.figure(dpi=100)\n",
        "sns.barplot(x='combined' , y='stroke' ,data=df ,palette= 'mako' , hue='gender')"
      ],
      "execution_count": null,
      "outputs": [
        {
          "data": {
            "text/plain": [
              "<AxesSubplot:xlabel='combined', ylabel='stroke'>"
            ]
          },
          "execution_count": 19,
          "metadata": {},
          "output_type": "execute_result"
        },
        {
          "data": {
            "image/png": "[encoded data removed]",
            "text/plain": [
              "<Figure size 600x400 with 1 Axes>"
            ]
          },
          "metadata": {
            "needs_background": "light"
          },
          "output_type": "display_data"
        }
      ]
    },
    {
      "cell_type": "markdown",
      "metadata": {
        "id": "xV-ydsMr1DZS"
      },
      "source": [
        "The above bar graph indicates that if both heart disease and hypertension is present , then females are at higher risk(0.11) \n",
        "than males(0.08 approx). In cases where only one disease is present or none is present , men are at greater risk of stroke.  "
      ]
    },
    {
      "cell_type": "markdown",
      "metadata": {
        "id": "fqf-lHQq1DZT"
      },
      "source": [
        "*Exploring the relationship between marital status and stroke probability*"
      ]
    },
    {
      "cell_type": "code",
      "metadata": {
        "id": "hxdojq3t1DZT",
        "outputId": "a554c206-bb4b-4596-dfef-9c38dd09c2fb"
      },
      "source": [
        "plt.figure(dpi=100)\n",
        "sns.barplot(x=df['ever_married'], y= df['stroke'] , palette = 'mako')"
      ],
      "execution_count": null,
      "outputs": [
        {
          "data": {
            "text/plain": [
              "<AxesSubplot:xlabel='ever_married', ylabel='stroke'>"
            ]
          },
          "execution_count": 20,
          "metadata": {},
          "output_type": "execute_result"
        },
        {
          "data": {
            "image/png": "[encoded data removed]",
            "text/plain": [
              "<Figure size 600x400 with 1 Axes>"
            ]
          },
          "metadata": {
            "needs_background": "light"
          },
          "output_type": "display_data"
        }
      ]
    },
    {
      "cell_type": "markdown",
      "metadata": {
        "id": "ro5q3NEo1DZU"
      },
      "source": [
        "The above graph indicates that married people are more probable(0.023) to suffer from a stroke than unmarried people \n",
        "where stroke probability is around (0.06) ."
      ]
    },
    {
      "cell_type": "markdown",
      "metadata": {
        "id": "ABoqZ6ur1DZU"
      },
      "source": [
        "*Exploring the relationship between marital status and stroke probability , gender-wise*"
      ]
    },
    {
      "cell_type": "code",
      "metadata": {
        "id": "Cb3g5vAu1DZV",
        "outputId": "c12c8659-86a1-4eea-d5fb-c8b7a4e1b9d7"
      },
      "source": [
        "plt.figure(dpi=100)\n",
        "sns.barplot(x='ever_married' , y='stroke' ,data=df ,palette= 'mako' , hue='gender')"
      ],
      "execution_count": null,
      "outputs": [
        {
          "data": {
            "text/plain": [
              "<AxesSubplot:xlabel='ever_married', ylabel='stroke'>"
            ]
          },
          "execution_count": 21,
          "metadata": {},
          "output_type": "execute_result"
        },
        {
          "data": {
            "image/png": "[encoded data removed]",
            "text/plain": [
              "<Figure size 600x400 with 1 Axes>"
            ]
          },
          "metadata": {
            "needs_background": "light"
          },
          "output_type": "display_data"
        }
      ]
    },
    {
      "cell_type": "markdown",
      "metadata": {
        "id": "AJOFAl3B1DZV"
      },
      "source": [
        "The conclusions drawn from this graph are as follows. \n",
        "Men are more likely to suffer a stroke than women , whether married or unmarried. Unmarried people  significantly \n",
        "less likely to suffer from\n",
        "a stroke."
      ]
    },
    {
      "cell_type": "markdown",
      "metadata": {
        "id": "1w57eZdW1DZV"
      },
      "source": [
        "*Exploring relationship between work type and stroke*"
      ]
    },
    {
      "cell_type": "code",
      "metadata": {
        "id": "glHUS1NX1DZW",
        "outputId": "fc005665-2333-419d-a8fc-c18c9629af92"
      },
      "source": [
        "plt.figure(dpi=100)\n",
        "sns.barplot(x='work_type' , y='stroke' ,data=df ,palette= 'mako')"
      ],
      "execution_count": null,
      "outputs": [
        {
          "data": {
            "text/plain": [
              "<AxesSubplot:xlabel='work_type', ylabel='stroke'>"
            ]
          },
          "execution_count": 22,
          "metadata": {},
          "output_type": "execute_result"
        },
        {
          "data": {
            "image/png": "[encoded data removed]",
            "text/plain": [
              "<Figure size 600x400 with 1 Axes>"
            ]
          },
          "metadata": {
            "needs_background": "light"
          },
          "output_type": "display_data"
        }
      ]
    },
    {
      "cell_type": "markdown",
      "metadata": {
        "id": "E7sSjxNt1DZW"
      },
      "source": [
        "The bar graph shows that self employed people have the greatest probability of a stroke (0.033) , followed by people working in \n",
        "the private sector(probability is 0.016 approx). People having government jobs least likely to suffer from a stroke \n",
        "among all the peole who are working. Probability of children and people who have never been employed is very less (close to 0.0)"
      ]
    },
    {
      "cell_type": "markdown",
      "metadata": {
        "id": "NRSev2ez1DZW"
      },
      "source": [
        "*Exploring relationship between work type and stroke on the basis of gender*"
      ]
    },
    {
      "cell_type": "code",
      "metadata": {
        "id": "KsYjyAJA1DZX",
        "outputId": "f130ee32-8b01-4dad-ffbd-d04b81fe9859"
      },
      "source": [
        "plt.figure(dpi=100)\n",
        "sns.barplot(x='work_type' , y='stroke' ,data=df ,palette= 'mako' , hue='gender')"
      ],
      "execution_count": null,
      "outputs": [
        {
          "data": {
            "text/plain": [
              "<AxesSubplot:xlabel='work_type', ylabel='stroke'>"
            ]
          },
          "execution_count": 23,
          "metadata": {},
          "output_type": "execute_result"
        },
        {
          "data": {
            "image/png": "[encoded data removed]",
            "text/plain": [
              "<Figure size 600x400 with 1 Axes>"
            ]
          },
          "metadata": {
            "needs_background": "light"
          },
          "output_type": "display_data"
        }
      ]
    },
    {
      "cell_type": "markdown",
      "metadata": {
        "id": "VBqowUsU1DZX"
      },
      "source": [
        "Among gender and worktype men more likely to suffer from stroke in every work type \n",
        "other than govt job where females are at greater risk"
      ]
    },
    {
      "cell_type": "markdown",
      "metadata": {
        "id": "54xFpf0N1DZX"
      },
      "source": [
        "*Exploring relationship between residence type and stroke probability*"
      ]
    },
    {
      "cell_type": "code",
      "metadata": {
        "id": "p4NXhrHr1DZY",
        "outputId": "ccbc8e0c-fb7d-40d1-d0f0-2e4bdb895f44"
      },
      "source": [
        "plt.figure(dpi=100)\n",
        "sns.barplot(x='Residence_type' , y='stroke' ,data=df ,palette= 'mako' )"
      ],
      "execution_count": null,
      "outputs": [
        {
          "data": {
            "text/plain": [
              "<AxesSubplot:xlabel='Residence_type', ylabel='stroke'>"
            ]
          },
          "execution_count": 24,
          "metadata": {},
          "output_type": "execute_result"
        },
        {
          "data": {
            "image/png": "[encoded data removed]",
            "text/plain": [
              "<Figure size 600x400 with 1 Axes>"
            ]
          },
          "metadata": {
            "needs_background": "light"
          },
          "output_type": "display_data"
        }
      ]
    },
    {
      "cell_type": "markdown",
      "metadata": {
        "id": "qlxON_rK1DZY"
      },
      "source": [
        "It can be clearly seen that people living in rural areas are at slightly lower risk than urban city-dwellers."
      ]
    },
    {
      "cell_type": "markdown",
      "metadata": {
        "id": "V_MyIEHB1DZY"
      },
      "source": [
        "*Exploring relationship between stroke and smoking status of patients*"
      ]
    },
    {
      "cell_type": "code",
      "metadata": {
        "id": "foPlatFH1DZY",
        "outputId": "435c27d2-c994-4f35-f817-b54aef76c003"
      },
      "source": [
        "plt.figure(dpi=100)\n",
        "sns.barplot(x='smoking_status' ,y='stroke' ,data=df ,palette='mako')"
      ],
      "execution_count": null,
      "outputs": [
        {
          "data": {
            "text/plain": [
              "<AxesSubplot:xlabel='smoking_status', ylabel='stroke'>"
            ]
          },
          "execution_count": 25,
          "metadata": {},
          "output_type": "execute_result"
        },
        {
          "data": {
            "image/png": "[encoded data removed]",
            "text/plain": [
              "<Figure size 600x400 with 1 Axes>"
            ]
          },
          "metadata": {
            "needs_background": "light"
          },
          "output_type": "display_data"
        }
      ]
    },
    {
      "cell_type": "markdown",
      "metadata": {
        "id": "sIMpD_Za1DZZ"
      },
      "source": [
        "Thus it can be concluded that people who formerly smoked are at greatest risk followed by active smokers and \n",
        "people who have never smoked."
      ]
    },
    {
      "cell_type": "markdown",
      "metadata": {
        "id": "RTVfqbVB1DZZ"
      },
      "source": [
        "*Exploring relationship between stroke and smoking status of patients on the basis of gender*\n",
        "\n"
      ]
    },
    {
      "cell_type": "code",
      "metadata": {
        "id": "lrXJULD31DZZ",
        "outputId": "79cc4a06-ebb4-442e-a2b0-1bda2accc87f"
      },
      "source": [
        "plt.figure(dpi=100)\n",
        "sns.barplot(x='smoking_status' ,y='stroke' ,data=df ,palette='mako' ,hue='gender')"
      ],
      "execution_count": null,
      "outputs": [
        {
          "data": {
            "text/plain": [
              "<AxesSubplot:xlabel='smoking_status', ylabel='stroke'>"
            ]
          },
          "execution_count": 26,
          "metadata": {},
          "output_type": "execute_result"
        },
        {
          "data": {
            "image/png": "[encoded data removed]",
            "text/plain": [
              "<Figure size 600x400 with 1 Axes>"
            ]
          },
          "metadata": {
            "needs_background": "light"
          },
          "output_type": "display_data"
        }
      ]
    },
    {
      "cell_type": "markdown",
      "metadata": {
        "id": "zsDKtBGM1DZa"
      },
      "source": [
        "Females at lesser risk than men in general , but in case of never smoked , females are at gretaer risk than men.\n",
        " Probability of stroke is more in former smokers than current active smokers is a notable conclusion "
      ]
    },
    {
      "cell_type": "markdown",
      "metadata": {
        "id": "7lRbZJV71DZa"
      },
      "source": [
        "*Study between residence type and stroke on the basis of gender*"
      ]
    },
    {
      "cell_type": "code",
      "metadata": {
        "id": "KUgOdSM61DZa",
        "outputId": "1ddb566a-bb2e-4ce9-b3ac-288c1f14795a"
      },
      "source": [
        "plt.figure(dpi=100)\n",
        "sns.barplot(x='Residence_type', y= 'stroke' , data=df, palette='mako' , hue='gender')"
      ],
      "execution_count": null,
      "outputs": [
        {
          "data": {
            "text/plain": [
              "<AxesSubplot:xlabel='Residence_type', ylabel='stroke'>"
            ]
          },
          "execution_count": 27,
          "metadata": {},
          "output_type": "execute_result"
        },
        {
          "data": {
            "image/png": "[encoded data removed]",
            "text/plain": [
              "<Figure size 600x400 with 1 Axes>"
            ]
          },
          "metadata": {
            "needs_background": "light"
          },
          "output_type": "display_data"
        }
      ]
    },
    {
      "cell_type": "markdown",
      "metadata": {
        "id": "rdkeKO9L1DZb"
      },
      "source": [
        "Urban males are at the greatest risk , followed by rural men. However, urban women and rural women have almost the same \n",
        "possibility of stroke"
      ]
    },
    {
      "cell_type": "markdown",
      "metadata": {
        "id": "sZU4eLSg1DZb"
      },
      "source": [
        "*Relation between stroke and residence type on the basis of smoking status*"
      ]
    },
    {
      "cell_type": "code",
      "metadata": {
        "id": "zDBPKnKY1DZb",
        "outputId": "6d2c31ae-dc6b-4a65-b0c5-43cfc553c987"
      },
      "source": [
        "plt.figure(dpi=100)\n",
        "sns.barplot(x='Residence_type', y= 'stroke' , data=df, palette='mako' , hue='smoking_status')"
      ],
      "execution_count": null,
      "outputs": [
        {
          "data": {
            "text/plain": [
              "<AxesSubplot:xlabel='Residence_type', ylabel='stroke'>"
            ]
          },
          "execution_count": 28,
          "metadata": {},
          "output_type": "execute_result"
        },
        {
          "data": {
            "image/png": "[encoded data removed]",
            "text/plain": [
              "<Figure size 600x400 with 1 Axes>"
            ]
          },
          "metadata": {
            "needs_background": "light"
          },
          "output_type": "display_data"
        }
      ]
    },
    {
      "cell_type": "markdown",
      "metadata": {
        "id": "j4lJ92f51DZc"
      },
      "source": [
        "This graph gives us some interesting insights. Urban people who smoke are at greatest risk in comparison to the other categories.\n",
        "However , the surprising fact is that rural people who formerly smoked are at much greater risk than urban people who currently \n",
        "smoke. Rural people who smoke are at greater risk than their urban counterparts."
      ]
    },
    {
      "cell_type": "markdown",
      "metadata": {
        "id": "WckuPmGM1DZc"
      },
      "source": [
        "*Exploring the relation between bmi and stroke*"
      ]
    },
    {
      "cell_type": "code",
      "metadata": {
        "id": "E2K3BgQO1DZc",
        "outputId": "aa1e1a1d-a8ca-4b34-b6ba-1468e911639b"
      },
      "source": [
        "plt.figure(dpi=100)\n",
        "sns.kdeplot(x='bmi' , y='stroke' , data=df)"
      ],
      "execution_count": null,
      "outputs": [
        {
          "data": {
            "text/plain": [
              "<AxesSubplot:xlabel='bmi', ylabel='stroke'>"
            ]
          },
          "execution_count": 29,
          "metadata": {},
          "output_type": "execute_result"
        },
        {
          "data": {
            "image/png": "[encoded data removed]",
            "text/plain": [
              "<Figure size 600x400 with 1 Axes>"
            ]
          },
          "metadata": {
            "needs_background": "light"
          },
          "output_type": "display_data"
        }
      ]
    },
    {
      "cell_type": "markdown",
      "metadata": {
        "id": "A-sLK9HT1DZd"
      },
      "source": [
        "This shows that people having bmi above 27(approx) are the most likely to suffer from stroke"
      ]
    },
    {
      "cell_type": "markdown",
      "metadata": {
        "id": "ru2rsReH1DZd"
      },
      "source": [
        "*Exploring the relationship between stroke and average glucose level*"
      ]
    },
    {
      "cell_type": "code",
      "metadata": {
        "id": "GHLoTjLs1DZd",
        "outputId": "6669ba18-8265-4abc-dd98-a360c804091b"
      },
      "source": [
        "plt.figure(dpi=100)\n",
        "sns.kdeplot(x='avg_glucose_level' , y='stroke' , data=df)"
      ],
      "execution_count": null,
      "outputs": [
        {
          "data": {
            "text/plain": [
              "<AxesSubplot:xlabel='avg_glucose_level', ylabel='stroke'>"
            ]
          },
          "execution_count": 30,
          "metadata": {},
          "output_type": "execute_result"
        },
        {
          "data": {
            "image/png": "[encoded data removed]",
            "text/plain": [
              "<Figure size 600x400 with 1 Axes>"
            ]
          },
          "metadata": {
            "needs_background": "light"
          },
          "output_type": "display_data"
        }
      ]
    },
    {
      "cell_type": "code",
      "metadata": {
        "id": "-GdLc-nO1DZe"
      },
      "source": [
        "#converting the continuous bmi column to a categorical column and grouping according to values"
      ],
      "execution_count": null,
      "outputs": []
    },
    {
      "cell_type": "code",
      "metadata": {
        "id": "IgMkdZsg1DZe"
      },
      "source": [
        "category=pd.cut(df.bmi , bins=[0,19,25,100] , labels=['underweight' ,'normal' ,'overweight'])\n",
        "df.insert(8,'bmi_group',category)\n"
      ],
      "execution_count": null,
      "outputs": []
    },
    {
      "cell_type": "code",
      "metadata": {
        "id": "XLPpVShk1DZe",
        "outputId": "8c3d9c72-c46e-4fc9-dbba-3ca0f58aa2e7"
      },
      "source": [
        "df.head()"
      ],
      "execution_count": null,
      "outputs": [
        {
          "data": {
            "text/html": [
              "<div>\n",
              "<style scoped>\n",
              "    .dataframe tbody tr th:only-of-type {\n",
              "        vertical-align: middle;\n",
              "    }\n",
              "\n",
              "    .dataframe tbody tr th {\n",
              "        vertical-align: top;\n",
              "    }\n",
              "\n",
              "    .dataframe thead th {\n",
              "        text-align: right;\n",
              "    }\n",
              "</style>\n",
              "<table border=\"1\" class=\"dataframe\">\n",
              "  <thead>\n",
              "    <tr style=\"text-align: right;\">\n",
              "      <th></th>\n",
              "      <th>gender</th>\n",
              "      <th>age</th>\n",
              "      <th>hypertension</th>\n",
              "      <th>heart_disease</th>\n",
              "      <th>ever_married</th>\n",
              "      <th>work_type</th>\n",
              "      <th>Residence_type</th>\n",
              "      <th>avg_glucose_level</th>\n",
              "      <th>bmi_group</th>\n",
              "      <th>bmi</th>\n",
              "      <th>smoking_status</th>\n",
              "      <th>stroke</th>\n",
              "      <th>AGE GROUP</th>\n",
              "      <th>combined</th>\n",
              "    </tr>\n",
              "  </thead>\n",
              "  <tbody>\n",
              "    <tr>\n",
              "      <th>0</th>\n",
              "      <td>Male</td>\n",
              "      <td>58.0</td>\n",
              "      <td>1</td>\n",
              "      <td>0</td>\n",
              "      <td>Yes</td>\n",
              "      <td>Private</td>\n",
              "      <td>Urban</td>\n",
              "      <td>87.96</td>\n",
              "      <td>overweight</td>\n",
              "      <td>39.2</td>\n",
              "      <td>never smoked</td>\n",
              "      <td>0</td>\n",
              "      <td>5.0</td>\n",
              "      <td>0</td>\n",
              "    </tr>\n",
              "    <tr>\n",
              "      <th>1</th>\n",
              "      <td>Female</td>\n",
              "      <td>70.0</td>\n",
              "      <td>0</td>\n",
              "      <td>0</td>\n",
              "      <td>Yes</td>\n",
              "      <td>Private</td>\n",
              "      <td>Rural</td>\n",
              "      <td>69.04</td>\n",
              "      <td>overweight</td>\n",
              "      <td>35.9</td>\n",
              "      <td>formerly smoked</td>\n",
              "      <td>0</td>\n",
              "      <td>7.0</td>\n",
              "      <td>0</td>\n",
              "    </tr>\n",
              "    <tr>\n",
              "      <th>2</th>\n",
              "      <td>Female</td>\n",
              "      <td>52.0</td>\n",
              "      <td>0</td>\n",
              "      <td>0</td>\n",
              "      <td>Yes</td>\n",
              "      <td>Private</td>\n",
              "      <td>Urban</td>\n",
              "      <td>77.59</td>\n",
              "      <td>underweight</td>\n",
              "      <td>17.7</td>\n",
              "      <td>formerly smoked</td>\n",
              "      <td>0</td>\n",
              "      <td>5.0</td>\n",
              "      <td>0</td>\n",
              "    </tr>\n",
              "    <tr>\n",
              "      <th>3</th>\n",
              "      <td>Female</td>\n",
              "      <td>75.0</td>\n",
              "      <td>0</td>\n",
              "      <td>1</td>\n",
              "      <td>Yes</td>\n",
              "      <td>Self-employed</td>\n",
              "      <td>Rural</td>\n",
              "      <td>243.53</td>\n",
              "      <td>overweight</td>\n",
              "      <td>27.0</td>\n",
              "      <td>never smoked</td>\n",
              "      <td>0</td>\n",
              "      <td>7.0</td>\n",
              "      <td>0</td>\n",
              "    </tr>\n",
              "    <tr>\n",
              "      <th>4</th>\n",
              "      <td>Female</td>\n",
              "      <td>32.0</td>\n",
              "      <td>0</td>\n",
              "      <td>0</td>\n",
              "      <td>Yes</td>\n",
              "      <td>Private</td>\n",
              "      <td>Rural</td>\n",
              "      <td>77.67</td>\n",
              "      <td>overweight</td>\n",
              "      <td>32.3</td>\n",
              "      <td>smokes</td>\n",
              "      <td>0</td>\n",
              "      <td>3.0</td>\n",
              "      <td>0</td>\n",
              "    </tr>\n",
              "  </tbody>\n",
              "</table>\n",
              "</div>"
            ],
            "text/plain": [
              "   gender   age  hypertension  heart_disease ever_married      work_type  \\\n",
              "0    Male  58.0             1              0          Yes        Private   \n",
              "1  Female  70.0             0              0          Yes        Private   \n",
              "2  Female  52.0             0              0          Yes        Private   \n",
              "3  Female  75.0             0              1          Yes  Self-employed   \n",
              "4  Female  32.0             0              0          Yes        Private   \n",
              "\n",
              "  Residence_type  avg_glucose_level    bmi_group   bmi   smoking_status  \\\n",
              "0          Urban              87.96   overweight  39.2     never smoked   \n",
              "1          Rural              69.04   overweight  35.9  formerly smoked   \n",
              "2          Urban              77.59  underweight  17.7  formerly smoked   \n",
              "3          Rural             243.53   overweight  27.0     never smoked   \n",
              "4          Rural              77.67   overweight  32.3           smokes   \n",
              "\n",
              "   stroke  AGE GROUP  combined  \n",
              "0       0        5.0         0  \n",
              "1       0        7.0         0  \n",
              "2       0        5.0         0  \n",
              "3       0        7.0         0  \n",
              "4       0        3.0         0  "
            ]
          },
          "execution_count": 33,
          "metadata": {},
          "output_type": "execute_result"
        }
      ]
    },
    {
      "cell_type": "code",
      "metadata": {
        "id": "6iW5hCw31DZf",
        "outputId": "1758d9e3-3104-4f94-b1d2-64badcf429bf"
      },
      "source": [
        "df.isnull().sum()              #checking for null values in new column"
      ],
      "execution_count": null,
      "outputs": [
        {
          "data": {
            "text/plain": [
              "gender               0\n",
              "age                  0\n",
              "hypertension         0\n",
              "heart_disease        0\n",
              "ever_married         0\n",
              "work_type            0\n",
              "Residence_type       0\n",
              "avg_glucose_level    0\n",
              "bmi_group            0\n",
              "bmi                  0\n",
              "smoking_status       0\n",
              "stroke               0\n",
              "AGE GROUP            0\n",
              "combined             0\n",
              "dtype: int64"
            ]
          },
          "execution_count": 34,
          "metadata": {},
          "output_type": "execute_result"
        }
      ]
    },
    {
      "cell_type": "code",
      "metadata": {
        "id": "2fYiqEXB1DZf",
        "outputId": "eaedbe1d-36af-449a-b1fb-8d5d5978869d"
      },
      "source": [
        "df.sort_values('bmi')\n"
      ],
      "execution_count": null,
      "outputs": [
        {
          "data": {
            "text/html": [
              "<div>\n",
              "<style scoped>\n",
              "    .dataframe tbody tr th:only-of-type {\n",
              "        vertical-align: middle;\n",
              "    }\n",
              "\n",
              "    .dataframe tbody tr th {\n",
              "        vertical-align: top;\n",
              "    }\n",
              "\n",
              "    .dataframe thead th {\n",
              "        text-align: right;\n",
              "    }\n",
              "</style>\n",
              "<table border=\"1\" class=\"dataframe\">\n",
              "  <thead>\n",
              "    <tr style=\"text-align: right;\">\n",
              "      <th></th>\n",
              "      <th>gender</th>\n",
              "      <th>age</th>\n",
              "      <th>hypertension</th>\n",
              "      <th>heart_disease</th>\n",
              "      <th>ever_married</th>\n",
              "      <th>work_type</th>\n",
              "      <th>Residence_type</th>\n",
              "      <th>avg_glucose_level</th>\n",
              "      <th>bmi_group</th>\n",
              "      <th>bmi</th>\n",
              "      <th>smoking_status</th>\n",
              "      <th>stroke</th>\n",
              "      <th>AGE GROUP</th>\n",
              "      <th>combined</th>\n",
              "    </tr>\n",
              "  </thead>\n",
              "  <tbody>\n",
              "    <tr>\n",
              "      <th>17829</th>\n",
              "      <td>Male</td>\n",
              "      <td>39.0</td>\n",
              "      <td>0</td>\n",
              "      <td>0</td>\n",
              "      <td>Yes</td>\n",
              "      <td>Private</td>\n",
              "      <td>Rural</td>\n",
              "      <td>75.90</td>\n",
              "      <td>underweight</td>\n",
              "      <td>10.1</td>\n",
              "      <td>smokes</td>\n",
              "      <td>0</td>\n",
              "      <td>3.0</td>\n",
              "      <td>0</td>\n",
              "    </tr>\n",
              "    <tr>\n",
              "      <th>9435</th>\n",
              "      <td>Female</td>\n",
              "      <td>71.0</td>\n",
              "      <td>0</td>\n",
              "      <td>0</td>\n",
              "      <td>Yes</td>\n",
              "      <td>Govt_job</td>\n",
              "      <td>Rural</td>\n",
              "      <td>59.13</td>\n",
              "      <td>underweight</td>\n",
              "      <td>10.8</td>\n",
              "      <td>never smoked</td>\n",
              "      <td>0</td>\n",
              "      <td>7.0</td>\n",
              "      <td>0</td>\n",
              "    </tr>\n",
              "    <tr>\n",
              "      <th>18295</th>\n",
              "      <td>Male</td>\n",
              "      <td>49.0</td>\n",
              "      <td>0</td>\n",
              "      <td>0</td>\n",
              "      <td>Yes</td>\n",
              "      <td>Private</td>\n",
              "      <td>Urban</td>\n",
              "      <td>81.50</td>\n",
              "      <td>underweight</td>\n",
              "      <td>11.0</td>\n",
              "      <td>never smoked</td>\n",
              "      <td>0</td>\n",
              "      <td>4.0</td>\n",
              "      <td>0</td>\n",
              "    </tr>\n",
              "    <tr>\n",
              "      <th>1325</th>\n",
              "      <td>Male</td>\n",
              "      <td>40.0</td>\n",
              "      <td>0</td>\n",
              "      <td>0</td>\n",
              "      <td>Yes</td>\n",
              "      <td>Private</td>\n",
              "      <td>Rural</td>\n",
              "      <td>60.96</td>\n",
              "      <td>underweight</td>\n",
              "      <td>11.5</td>\n",
              "      <td>never smoked</td>\n",
              "      <td>0</td>\n",
              "      <td>4.0</td>\n",
              "      <td>0</td>\n",
              "    </tr>\n",
              "    <tr>\n",
              "      <th>24784</th>\n",
              "      <td>Female</td>\n",
              "      <td>44.0</td>\n",
              "      <td>0</td>\n",
              "      <td>0</td>\n",
              "      <td>Yes</td>\n",
              "      <td>Private</td>\n",
              "      <td>Urban</td>\n",
              "      <td>162.04</td>\n",
              "      <td>underweight</td>\n",
              "      <td>12.5</td>\n",
              "      <td>never smoked</td>\n",
              "      <td>0</td>\n",
              "      <td>4.0</td>\n",
              "      <td>0</td>\n",
              "    </tr>\n",
              "    <tr>\n",
              "      <th>...</th>\n",
              "      <td>...</td>\n",
              "      <td>...</td>\n",
              "      <td>...</td>\n",
              "      <td>...</td>\n",
              "      <td>...</td>\n",
              "      <td>...</td>\n",
              "      <td>...</td>\n",
              "      <td>...</td>\n",
              "      <td>...</td>\n",
              "      <td>...</td>\n",
              "      <td>...</td>\n",
              "      <td>...</td>\n",
              "      <td>...</td>\n",
              "      <td>...</td>\n",
              "    </tr>\n",
              "    <tr>\n",
              "      <th>484</th>\n",
              "      <td>Female</td>\n",
              "      <td>23.0</td>\n",
              "      <td>1</td>\n",
              "      <td>0</td>\n",
              "      <td>No</td>\n",
              "      <td>Private</td>\n",
              "      <td>Urban</td>\n",
              "      <td>70.03</td>\n",
              "      <td>overweight</td>\n",
              "      <td>78.0</td>\n",
              "      <td>smokes</td>\n",
              "      <td>0</td>\n",
              "      <td>2.0</td>\n",
              "      <td>0</td>\n",
              "    </tr>\n",
              "    <tr>\n",
              "      <th>20539</th>\n",
              "      <td>Female</td>\n",
              "      <td>34.0</td>\n",
              "      <td>0</td>\n",
              "      <td>0</td>\n",
              "      <td>No</td>\n",
              "      <td>Private</td>\n",
              "      <td>Urban</td>\n",
              "      <td>199.13</td>\n",
              "      <td>overweight</td>\n",
              "      <td>80.1</td>\n",
              "      <td>never smoked</td>\n",
              "      <td>0</td>\n",
              "      <td>3.0</td>\n",
              "      <td>0</td>\n",
              "    </tr>\n",
              "    <tr>\n",
              "      <th>23306</th>\n",
              "      <td>Female</td>\n",
              "      <td>47.0</td>\n",
              "      <td>1</td>\n",
              "      <td>0</td>\n",
              "      <td>Yes</td>\n",
              "      <td>Private</td>\n",
              "      <td>Urban</td>\n",
              "      <td>238.47</td>\n",
              "      <td>overweight</td>\n",
              "      <td>82.7</td>\n",
              "      <td>never smoked</td>\n",
              "      <td>0</td>\n",
              "      <td>4.0</td>\n",
              "      <td>0</td>\n",
              "    </tr>\n",
              "    <tr>\n",
              "      <th>28869</th>\n",
              "      <td>Male</td>\n",
              "      <td>78.0</td>\n",
              "      <td>1</td>\n",
              "      <td>0</td>\n",
              "      <td>Yes</td>\n",
              "      <td>Private</td>\n",
              "      <td>Rural</td>\n",
              "      <td>135.73</td>\n",
              "      <td>overweight</td>\n",
              "      <td>89.0</td>\n",
              "      <td>never smoked</td>\n",
              "      <td>0</td>\n",
              "      <td>7.0</td>\n",
              "      <td>0</td>\n",
              "    </tr>\n",
              "    <tr>\n",
              "      <th>2682</th>\n",
              "      <td>Male</td>\n",
              "      <td>38.0</td>\n",
              "      <td>1</td>\n",
              "      <td>0</td>\n",
              "      <td>Yes</td>\n",
              "      <td>Private</td>\n",
              "      <td>Rural</td>\n",
              "      <td>56.90</td>\n",
              "      <td>overweight</td>\n",
              "      <td>92.0</td>\n",
              "      <td>never smoked</td>\n",
              "      <td>0</td>\n",
              "      <td>3.0</td>\n",
              "      <td>0</td>\n",
              "    </tr>\n",
              "  </tbody>\n",
              "</table>\n",
              "<p>29065 rows × 14 columns</p>\n",
              "</div>"
            ],
            "text/plain": [
              "       gender   age  hypertension  heart_disease ever_married work_type  \\\n",
              "17829    Male  39.0             0              0          Yes   Private   \n",
              "9435   Female  71.0             0              0          Yes  Govt_job   \n",
              "18295    Male  49.0             0              0          Yes   Private   \n",
              "1325     Male  40.0             0              0          Yes   Private   \n",
              "24784  Female  44.0             0              0          Yes   Private   \n",
              "...       ...   ...           ...            ...          ...       ...   \n",
              "484    Female  23.0             1              0           No   Private   \n",
              "20539  Female  34.0             0              0           No   Private   \n",
              "23306  Female  47.0             1              0          Yes   Private   \n",
              "28869    Male  78.0             1              0          Yes   Private   \n",
              "2682     Male  38.0             1              0          Yes   Private   \n",
              "\n",
              "      Residence_type  avg_glucose_level    bmi_group   bmi smoking_status  \\\n",
              "17829          Rural              75.90  underweight  10.1         smokes   \n",
              "9435           Rural              59.13  underweight  10.8   never smoked   \n",
              "18295          Urban              81.50  underweight  11.0   never smoked   \n",
              "1325           Rural              60.96  underweight  11.5   never smoked   \n",
              "24784          Urban             162.04  underweight  12.5   never smoked   \n",
              "...              ...                ...          ...   ...            ...   \n",
              "484            Urban              70.03   overweight  78.0         smokes   \n",
              "20539          Urban             199.13   overweight  80.1   never smoked   \n",
              "23306          Urban             238.47   overweight  82.7   never smoked   \n",
              "28869          Rural             135.73   overweight  89.0   never smoked   \n",
              "2682           Rural              56.90   overweight  92.0   never smoked   \n",
              "\n",
              "       stroke  AGE GROUP  combined  \n",
              "17829       0        3.0         0  \n",
              "9435        0        7.0         0  \n",
              "18295       0        4.0         0  \n",
              "1325        0        4.0         0  \n",
              "24784       0        4.0         0  \n",
              "...       ...        ...       ...  \n",
              "484         0        2.0         0  \n",
              "20539       0        3.0         0  \n",
              "23306       0        4.0         0  \n",
              "28869       0        7.0         0  \n",
              "2682        0        3.0         0  \n",
              "\n",
              "[29065 rows x 14 columns]"
            ]
          },
          "execution_count": 35,
          "metadata": {},
          "output_type": "execute_result"
        }
      ]
    },
    {
      "cell_type": "markdown",
      "metadata": {
        "id": "ZHGfOhHW1DZf"
      },
      "source": [
        "*Exploring the relationship between bmi group and stroke*"
      ]
    },
    {
      "cell_type": "code",
      "metadata": {
        "id": "uvghVGTA1DZg",
        "outputId": "f12c8428-c84a-42b1-e7af-0bd33d84b6c4"
      },
      "source": [
        "plt.figure(dpi=100)\n",
        "sns.barplot(x='bmi_group' , y='stroke' , data=df , palette='mako')"
      ],
      "execution_count": null,
      "outputs": [
        {
          "data": {
            "text/plain": [
              "<AxesSubplot:xlabel='bmi_group', ylabel='stroke'>"
            ]
          },
          "execution_count": 36,
          "metadata": {},
          "output_type": "execute_result"
        },
        {
          "data": {
            "image/png": "[encoded data removed]",
            "text/plain": [
              "<Figure size 600x400 with 1 Axes>"
            ]
          },
          "metadata": {
            "needs_background": "light"
          },
          "output_type": "display_data"
        }
      ]
    },
    {
      "cell_type": "markdown",
      "metadata": {
        "id": "lPa0Oar31DZg"
      },
      "source": [
        "From the graph it can be concluded that as bmi increases , probability of stroke increases."
      ]
    },
    {
      "cell_type": "markdown",
      "metadata": {
        "id": "hMp3uPwO1DZg"
      },
      "source": [
        "**Converting avg glucose level column from continuous to categorical**"
      ]
    },
    {
      "cell_type": "code",
      "metadata": {
        "id": "BLWzkbz21DZh"
      },
      "source": [
        "category2=pd.cut(df.avg_glucose_level , bins=[0,140,200,1000] , labels=['normal' ,'prediabetic' ,'diabetic'])\n",
        "df.insert(9,'glucose_group',category2)"
      ],
      "execution_count": null,
      "outputs": []
    },
    {
      "cell_type": "code",
      "metadata": {
        "id": "r5ramNna1DZh",
        "outputId": "c8b9e532-28eb-4ab7-9493-717a4180fe89"
      },
      "source": [
        "df.head()"
      ],
      "execution_count": null,
      "outputs": [
        {
          "data": {
            "text/html": [
              "<div>\n",
              "<style scoped>\n",
              "    .dataframe tbody tr th:only-of-type {\n",
              "        vertical-align: middle;\n",
              "    }\n",
              "\n",
              "    .dataframe tbody tr th {\n",
              "        vertical-align: top;\n",
              "    }\n",
              "\n",
              "    .dataframe thead th {\n",
              "        text-align: right;\n",
              "    }\n",
              "</style>\n",
              "<table border=\"1\" class=\"dataframe\">\n",
              "  <thead>\n",
              "    <tr style=\"text-align: right;\">\n",
              "      <th></th>\n",
              "      <th>gender</th>\n",
              "      <th>age</th>\n",
              "      <th>hypertension</th>\n",
              "      <th>heart_disease</th>\n",
              "      <th>ever_married</th>\n",
              "      <th>work_type</th>\n",
              "      <th>Residence_type</th>\n",
              "      <th>avg_glucose_level</th>\n",
              "      <th>bmi_group</th>\n",
              "      <th>glucose_group</th>\n",
              "      <th>bmi</th>\n",
              "      <th>smoking_status</th>\n",
              "      <th>stroke</th>\n",
              "      <th>AGE GROUP</th>\n",
              "      <th>combined</th>\n",
              "    </tr>\n",
              "  </thead>\n",
              "  <tbody>\n",
              "    <tr>\n",
              "      <th>0</th>\n",
              "      <td>Male</td>\n",
              "      <td>58.0</td>\n",
              "      <td>1</td>\n",
              "      <td>0</td>\n",
              "      <td>Yes</td>\n",
              "      <td>Private</td>\n",
              "      <td>Urban</td>\n",
              "      <td>87.96</td>\n",
              "      <td>overweight</td>\n",
              "      <td>normal</td>\n",
              "      <td>39.2</td>\n",
              "      <td>never smoked</td>\n",
              "      <td>0</td>\n",
              "      <td>5.0</td>\n",
              "      <td>0</td>\n",
              "    </tr>\n",
              "    <tr>\n",
              "      <th>1</th>\n",
              "      <td>Female</td>\n",
              "      <td>70.0</td>\n",
              "      <td>0</td>\n",
              "      <td>0</td>\n",
              "      <td>Yes</td>\n",
              "      <td>Private</td>\n",
              "      <td>Rural</td>\n",
              "      <td>69.04</td>\n",
              "      <td>overweight</td>\n",
              "      <td>normal</td>\n",
              "      <td>35.9</td>\n",
              "      <td>formerly smoked</td>\n",
              "      <td>0</td>\n",
              "      <td>7.0</td>\n",
              "      <td>0</td>\n",
              "    </tr>\n",
              "    <tr>\n",
              "      <th>2</th>\n",
              "      <td>Female</td>\n",
              "      <td>52.0</td>\n",
              "      <td>0</td>\n",
              "      <td>0</td>\n",
              "      <td>Yes</td>\n",
              "      <td>Private</td>\n",
              "      <td>Urban</td>\n",
              "      <td>77.59</td>\n",
              "      <td>underweight</td>\n",
              "      <td>normal</td>\n",
              "      <td>17.7</td>\n",
              "      <td>formerly smoked</td>\n",
              "      <td>0</td>\n",
              "      <td>5.0</td>\n",
              "      <td>0</td>\n",
              "    </tr>\n",
              "    <tr>\n",
              "      <th>3</th>\n",
              "      <td>Female</td>\n",
              "      <td>75.0</td>\n",
              "      <td>0</td>\n",
              "      <td>1</td>\n",
              "      <td>Yes</td>\n",
              "      <td>Self-employed</td>\n",
              "      <td>Rural</td>\n",
              "      <td>243.53</td>\n",
              "      <td>overweight</td>\n",
              "      <td>diabetic</td>\n",
              "      <td>27.0</td>\n",
              "      <td>never smoked</td>\n",
              "      <td>0</td>\n",
              "      <td>7.0</td>\n",
              "      <td>0</td>\n",
              "    </tr>\n",
              "    <tr>\n",
              "      <th>4</th>\n",
              "      <td>Female</td>\n",
              "      <td>32.0</td>\n",
              "      <td>0</td>\n",
              "      <td>0</td>\n",
              "      <td>Yes</td>\n",
              "      <td>Private</td>\n",
              "      <td>Rural</td>\n",
              "      <td>77.67</td>\n",
              "      <td>overweight</td>\n",
              "      <td>normal</td>\n",
              "      <td>32.3</td>\n",
              "      <td>smokes</td>\n",
              "      <td>0</td>\n",
              "      <td>3.0</td>\n",
              "      <td>0</td>\n",
              "    </tr>\n",
              "  </tbody>\n",
              "</table>\n",
              "</div>"
            ],
            "text/plain": [
              "   gender   age  hypertension  heart_disease ever_married      work_type  \\\n",
              "0    Male  58.0             1              0          Yes        Private   \n",
              "1  Female  70.0             0              0          Yes        Private   \n",
              "2  Female  52.0             0              0          Yes        Private   \n",
              "3  Female  75.0             0              1          Yes  Self-employed   \n",
              "4  Female  32.0             0              0          Yes        Private   \n",
              "\n",
              "  Residence_type  avg_glucose_level    bmi_group glucose_group   bmi  \\\n",
              "0          Urban              87.96   overweight        normal  39.2   \n",
              "1          Rural              69.04   overweight        normal  35.9   \n",
              "2          Urban              77.59  underweight        normal  17.7   \n",
              "3          Rural             243.53   overweight      diabetic  27.0   \n",
              "4          Rural              77.67   overweight        normal  32.3   \n",
              "\n",
              "    smoking_status  stroke  AGE GROUP  combined  \n",
              "0     never smoked       0        5.0         0  \n",
              "1  formerly smoked       0        7.0         0  \n",
              "2  formerly smoked       0        5.0         0  \n",
              "3     never smoked       0        7.0         0  \n",
              "4           smokes       0        3.0         0  "
            ]
          },
          "execution_count": 38,
          "metadata": {},
          "output_type": "execute_result"
        }
      ]
    },
    {
      "cell_type": "code",
      "metadata": {
        "id": "Ka8iIt031DZi",
        "outputId": "723c818f-f5a3-4661-9e77-174574c242ce"
      },
      "source": [
        "df.isnull().sum()                         #checking for null values in new column"
      ],
      "execution_count": null,
      "outputs": [
        {
          "data": {
            "text/plain": [
              "gender               0\n",
              "age                  0\n",
              "hypertension         0\n",
              "heart_disease        0\n",
              "ever_married         0\n",
              "work_type            0\n",
              "Residence_type       0\n",
              "avg_glucose_level    0\n",
              "bmi_group            0\n",
              "glucose_group        0\n",
              "bmi                  0\n",
              "smoking_status       0\n",
              "stroke               0\n",
              "AGE GROUP            0\n",
              "combined             0\n",
              "dtype: int64"
            ]
          },
          "execution_count": 39,
          "metadata": {},
          "output_type": "execute_result"
        }
      ]
    },
    {
      "cell_type": "markdown",
      "metadata": {
        "id": "9u-pj8xS1DZi"
      },
      "source": [
        "**no null values in new column**"
      ]
    },
    {
      "cell_type": "markdown",
      "metadata": {
        "id": "7x7GuJw51DZi"
      },
      "source": [
        "*Establishing a relationship between avg glucose level groups and stroke*"
      ]
    },
    {
      "cell_type": "code",
      "metadata": {
        "id": "yquCigYm1DZj",
        "outputId": "a17c587f-a5cc-4628-a7bd-a44ad3e46861"
      },
      "source": [
        "plt.figure(dpi=100)\n",
        "sns.barplot(x='glucose_group' , y='stroke' , data=df , palette='mako' , hue='gender')"
      ],
      "execution_count": null,
      "outputs": [
        {
          "data": {
            "text/plain": [
              "<AxesSubplot:xlabel='glucose_group', ylabel='stroke'>"
            ]
          },
          "execution_count": 40,
          "metadata": {},
          "output_type": "execute_result"
        },
        {
          "data": {
            "image/png": "[encoded data removed]",
            "text/plain": [
              "<Figure size 600x400 with 1 Axes>"
            ]
          },
          "metadata": {
            "needs_background": "light"
          },
          "output_type": "display_data"
        }
      ]
    },
    {
      "cell_type": "markdown",
      "metadata": {
        "id": "Xhg2BdC81DZj"
      },
      "source": [
        "Probability of stroke highest in diabetic group.In the diabetic group , females are at the greatest risk of stroke.\n",
        "In the prediabetic group, males are at a greater possibility of suffering from a stroke."
      ]
    },
    {
      "cell_type": "code",
      "metadata": {
        "id": "cIdqMyQe1DZj",
        "outputId": "b4f0da30-41bb-4557-d48f-a2b633fd1aa1"
      },
      "source": [
        "plt.figure(dpi=100)\n",
        "sns.barplot(x='glucose_group' , y='stroke' , data=df , palette='mako' , hue='smoking_status')"
      ],
      "execution_count": null,
      "outputs": [
        {
          "data": {
            "text/plain": [
              "<AxesSubplot:xlabel='glucose_group', ylabel='stroke'>"
            ]
          },
          "execution_count": 41,
          "metadata": {},
          "output_type": "execute_result"
        },
        {
          "data": {
            "image/png": "[encoded data removed]",
            "text/plain": [
              "<Figure size 600x400 with 1 Axes>"
            ]
          },
          "metadata": {
            "needs_background": "light"
          },
          "output_type": "display_data"
        }
      ]
    },
    {
      "cell_type": "markdown",
      "metadata": {
        "id": "P3g4YaJL1DZk"
      },
      "source": [
        "## Feature Selection"
      ]
    },
    {
      "cell_type": "code",
      "metadata": {
        "id": "e5lijGm31DZk"
      },
      "source": [
        "X = df.drop('stroke', axis=1)\n",
        "y = df['stroke']"
      ],
      "execution_count": null,
      "outputs": []
    },
    {
      "cell_type": "markdown",
      "metadata": {
        "id": "js2s3za41DZk"
      },
      "source": [
        "## Train Test Split"
      ]
    },
    {
      "cell_type": "code",
      "metadata": {
        "id": "FYrVE5NS1DZl"
      },
      "source": [
        "from sklearn.model_selection import train_test_split"
      ],
      "execution_count": null,
      "outputs": []
    },
    {
      "cell_type": "code",
      "metadata": {
        "id": "Cy-_N95R1DZl"
      },
      "source": [
        "X_train, X_test, y_train, y_test = train_test_split(X, y, test_size=0.3, random_state=2021)"
      ],
      "execution_count": null,
      "outputs": []
    },
    {
      "cell_type": "code",
      "metadata": {
        "id": "PPZ1eQ3T1DZl",
        "outputId": "e1928e65-5a33-491d-d167-8a42a35f6516"
      },
      "source": [
        "X_train[:5]"
      ],
      "execution_count": null,
      "outputs": [
        {
          "data": {
            "text/html": [
              "<div>\n",
              "<style scoped>\n",
              "    .dataframe tbody tr th:only-of-type {\n",
              "        vertical-align: middle;\n",
              "    }\n",
              "\n",
              "    .dataframe tbody tr th {\n",
              "        vertical-align: top;\n",
              "    }\n",
              "\n",
              "    .dataframe thead th {\n",
              "        text-align: right;\n",
              "    }\n",
              "</style>\n",
              "<table border=\"1\" class=\"dataframe\">\n",
              "  <thead>\n",
              "    <tr style=\"text-align: right;\">\n",
              "      <th></th>\n",
              "      <th>gender</th>\n",
              "      <th>age</th>\n",
              "      <th>hypertension</th>\n",
              "      <th>heart_disease</th>\n",
              "      <th>ever_married</th>\n",
              "      <th>work_type</th>\n",
              "      <th>Residence_type</th>\n",
              "      <th>avg_glucose_level</th>\n",
              "      <th>bmi_group</th>\n",
              "      <th>glucose_group</th>\n",
              "      <th>bmi</th>\n",
              "      <th>smoking_status</th>\n",
              "      <th>AGE GROUP</th>\n",
              "      <th>combined</th>\n",
              "    </tr>\n",
              "  </thead>\n",
              "  <tbody>\n",
              "    <tr>\n",
              "      <th>5112</th>\n",
              "      <td>Female</td>\n",
              "      <td>79.0</td>\n",
              "      <td>1</td>\n",
              "      <td>0</td>\n",
              "      <td>Yes</td>\n",
              "      <td>Self-employed</td>\n",
              "      <td>Urban</td>\n",
              "      <td>66.83</td>\n",
              "      <td>normal</td>\n",
              "      <td>normal</td>\n",
              "      <td>19.8</td>\n",
              "      <td>never smoked</td>\n",
              "      <td>7.0</td>\n",
              "      <td>0</td>\n",
              "    </tr>\n",
              "    <tr>\n",
              "      <th>13166</th>\n",
              "      <td>Male</td>\n",
              "      <td>32.0</td>\n",
              "      <td>0</td>\n",
              "      <td>0</td>\n",
              "      <td>Yes</td>\n",
              "      <td>Govt_job</td>\n",
              "      <td>Urban</td>\n",
              "      <td>110.63</td>\n",
              "      <td>overweight</td>\n",
              "      <td>normal</td>\n",
              "      <td>33.1</td>\n",
              "      <td>never smoked</td>\n",
              "      <td>3.0</td>\n",
              "      <td>0</td>\n",
              "    </tr>\n",
              "    <tr>\n",
              "      <th>5197</th>\n",
              "      <td>Female</td>\n",
              "      <td>64.0</td>\n",
              "      <td>0</td>\n",
              "      <td>0</td>\n",
              "      <td>Yes</td>\n",
              "      <td>Private</td>\n",
              "      <td>Urban</td>\n",
              "      <td>109.51</td>\n",
              "      <td>overweight</td>\n",
              "      <td>normal</td>\n",
              "      <td>25.4</td>\n",
              "      <td>never smoked</td>\n",
              "      <td>6.0</td>\n",
              "      <td>0</td>\n",
              "    </tr>\n",
              "    <tr>\n",
              "      <th>25891</th>\n",
              "      <td>Male</td>\n",
              "      <td>24.0</td>\n",
              "      <td>0</td>\n",
              "      <td>0</td>\n",
              "      <td>No</td>\n",
              "      <td>Private</td>\n",
              "      <td>Rural</td>\n",
              "      <td>95.93</td>\n",
              "      <td>normal</td>\n",
              "      <td>normal</td>\n",
              "      <td>23.6</td>\n",
              "      <td>smokes</td>\n",
              "      <td>2.0</td>\n",
              "      <td>0</td>\n",
              "    </tr>\n",
              "    <tr>\n",
              "      <th>755</th>\n",
              "      <td>Female</td>\n",
              "      <td>56.0</td>\n",
              "      <td>0</td>\n",
              "      <td>1</td>\n",
              "      <td>Yes</td>\n",
              "      <td>Private</td>\n",
              "      <td>Rural</td>\n",
              "      <td>64.66</td>\n",
              "      <td>overweight</td>\n",
              "      <td>normal</td>\n",
              "      <td>26.7</td>\n",
              "      <td>formerly smoked</td>\n",
              "      <td>5.0</td>\n",
              "      <td>0</td>\n",
              "    </tr>\n",
              "  </tbody>\n",
              "</table>\n",
              "</div>"
            ],
            "text/plain": [
              "       gender   age  hypertension  heart_disease ever_married      work_type  \\\n",
              "5112   Female  79.0             1              0          Yes  Self-employed   \n",
              "13166    Male  32.0             0              0          Yes       Govt_job   \n",
              "5197   Female  64.0             0              0          Yes        Private   \n",
              "25891    Male  24.0             0              0           No        Private   \n",
              "755    Female  56.0             0              1          Yes        Private   \n",
              "\n",
              "      Residence_type  avg_glucose_level   bmi_group glucose_group   bmi  \\\n",
              "5112           Urban              66.83      normal        normal  19.8   \n",
              "13166          Urban             110.63  overweight        normal  33.1   \n",
              "5197           Urban             109.51  overweight        normal  25.4   \n",
              "25891          Rural              95.93      normal        normal  23.6   \n",
              "755            Rural              64.66  overweight        normal  26.7   \n",
              "\n",
              "        smoking_status  AGE GROUP  combined  \n",
              "5112      never smoked        7.0         0  \n",
              "13166     never smoked        3.0         0  \n",
              "5197      never smoked        6.0         0  \n",
              "25891           smokes        2.0         0  \n",
              "755    formerly smoked        5.0         0  "
            ]
          },
          "execution_count": 46,
          "metadata": {},
          "output_type": "execute_result"
        }
      ]
    },
    {
      "cell_type": "code",
      "metadata": {
        "id": "1hE6NDh51DZl",
        "outputId": "d5576e42-af98-41a1-8c09-dc86a156392f"
      },
      "source": [
        "y_train[:5]"
      ],
      "execution_count": null,
      "outputs": [
        {
          "data": {
            "text/plain": [
              "5112     0\n",
              "13166    0\n",
              "5197     0\n",
              "25891    0\n",
              "755      0\n",
              "Name: stroke, dtype: int64"
            ]
          },
          "execution_count": 47,
          "metadata": {},
          "output_type": "execute_result"
        }
      ]
    },
    {
      "cell_type": "markdown",
      "metadata": {
        "id": "Xbr7zVNL1DZm"
      },
      "source": [
        "## Logistic Regression"
      ]
    },
    {
      "cell_type": "code",
      "metadata": {
        "id": "eF6RaGjt1DZo"
      },
      "source": [
        "from sklearn.linear_model import LogisticRegression"
      ],
      "execution_count": null,
      "outputs": []
    },
    {
      "cell_type": "code",
      "metadata": {
        "id": "vWiHKXl01DZp"
      },
      "source": [
        "log_model = LogisticRegression(max_iter=100)"
      ],
      "execution_count": null,
      "outputs": []
    },
    {
      "cell_type": "code",
      "metadata": {
        "id": "MC8xV2lm1DZp",
        "outputId": "55871852-9f48-4cdf-d87b-bcc243436331"
      },
      "source": [
        "log_model.fit(X_train, y_train)"
      ],
      "execution_count": null,
      "outputs": [
        {
          "ename": "ValueError",
          "evalue": "could not convert string to float: 'Female'",
          "output_type": "error",
          "traceback": [
            "\u001b[1;31m---------------------------------------------------------------------------\u001b[0m",
            "\u001b[1;31mValueError\u001b[0m                                Traceback (most recent call last)",
            "\u001b[1;32m<ipython-input-50-8d7db2f88006>\u001b[0m in \u001b[0;36m<module>\u001b[1;34m\u001b[0m\n\u001b[1;32m----> 1\u001b[1;33m \u001b[0mlog_model\u001b[0m\u001b[1;33m.\u001b[0m\u001b[0mfit\u001b[0m\u001b[1;33m(\u001b[0m\u001b[0mX_train\u001b[0m\u001b[1;33m,\u001b[0m \u001b[0my_train\u001b[0m\u001b[1;33m)\u001b[0m\u001b[1;33m\u001b[0m\u001b[1;33m\u001b[0m\u001b[0m\n\u001b[0m",
            "\u001b[1;32mD:\\Anaconda\\lib\\site-packages\\sklearn\\linear_model\\_logistic.py\u001b[0m in \u001b[0;36mfit\u001b[1;34m(self, X, y, sample_weight)\u001b[0m\n\u001b[0;32m   1340\u001b[0m             \u001b[0m_dtype\u001b[0m \u001b[1;33m=\u001b[0m \u001b[1;33m[\u001b[0m\u001b[0mnp\u001b[0m\u001b[1;33m.\u001b[0m\u001b[0mfloat64\u001b[0m\u001b[1;33m,\u001b[0m \u001b[0mnp\u001b[0m\u001b[1;33m.\u001b[0m\u001b[0mfloat32\u001b[0m\u001b[1;33m]\u001b[0m\u001b[1;33m\u001b[0m\u001b[1;33m\u001b[0m\u001b[0m\n\u001b[0;32m   1341\u001b[0m \u001b[1;33m\u001b[0m\u001b[0m\n\u001b[1;32m-> 1342\u001b[1;33m         X, y = self._validate_data(X, y, accept_sparse='csr', dtype=_dtype,\n\u001b[0m\u001b[0;32m   1343\u001b[0m                                    \u001b[0morder\u001b[0m\u001b[1;33m=\u001b[0m\u001b[1;34m\"C\"\u001b[0m\u001b[1;33m,\u001b[0m\u001b[1;33m\u001b[0m\u001b[1;33m\u001b[0m\u001b[0m\n\u001b[0;32m   1344\u001b[0m                                    accept_large_sparse=solver != 'liblinear')\n",
            "\u001b[1;32mD:\\Anaconda\\lib\\site-packages\\sklearn\\base.py\u001b[0m in \u001b[0;36m_validate_data\u001b[1;34m(self, X, y, reset, validate_separately, **check_params)\u001b[0m\n\u001b[0;32m    430\u001b[0m                 \u001b[0my\u001b[0m \u001b[1;33m=\u001b[0m \u001b[0mcheck_array\u001b[0m\u001b[1;33m(\u001b[0m\u001b[0my\u001b[0m\u001b[1;33m,\u001b[0m \u001b[1;33m**\u001b[0m\u001b[0mcheck_y_params\u001b[0m\u001b[1;33m)\u001b[0m\u001b[1;33m\u001b[0m\u001b[1;33m\u001b[0m\u001b[0m\n\u001b[0;32m    431\u001b[0m             \u001b[1;32melse\u001b[0m\u001b[1;33m:\u001b[0m\u001b[1;33m\u001b[0m\u001b[1;33m\u001b[0m\u001b[0m\n\u001b[1;32m--> 432\u001b[1;33m                 \u001b[0mX\u001b[0m\u001b[1;33m,\u001b[0m \u001b[0my\u001b[0m \u001b[1;33m=\u001b[0m \u001b[0mcheck_X_y\u001b[0m\u001b[1;33m(\u001b[0m\u001b[0mX\u001b[0m\u001b[1;33m,\u001b[0m \u001b[0my\u001b[0m\u001b[1;33m,\u001b[0m \u001b[1;33m**\u001b[0m\u001b[0mcheck_params\u001b[0m\u001b[1;33m)\u001b[0m\u001b[1;33m\u001b[0m\u001b[1;33m\u001b[0m\u001b[0m\n\u001b[0m\u001b[0;32m    433\u001b[0m             \u001b[0mout\u001b[0m \u001b[1;33m=\u001b[0m \u001b[0mX\u001b[0m\u001b[1;33m,\u001b[0m \u001b[0my\u001b[0m\u001b[1;33m\u001b[0m\u001b[1;33m\u001b[0m\u001b[0m\n\u001b[0;32m    434\u001b[0m \u001b[1;33m\u001b[0m\u001b[0m\n",
            "\u001b[1;32mD:\\Anaconda\\lib\\site-packages\\sklearn\\utils\\validation.py\u001b[0m in \u001b[0;36minner_f\u001b[1;34m(*args, **kwargs)\u001b[0m\n\u001b[0;32m     70\u001b[0m                           FutureWarning)\n\u001b[0;32m     71\u001b[0m         \u001b[0mkwargs\u001b[0m\u001b[1;33m.\u001b[0m\u001b[0mupdate\u001b[0m\u001b[1;33m(\u001b[0m\u001b[1;33m{\u001b[0m\u001b[0mk\u001b[0m\u001b[1;33m:\u001b[0m \u001b[0marg\u001b[0m \u001b[1;32mfor\u001b[0m \u001b[0mk\u001b[0m\u001b[1;33m,\u001b[0m \u001b[0marg\u001b[0m \u001b[1;32min\u001b[0m \u001b[0mzip\u001b[0m\u001b[1;33m(\u001b[0m\u001b[0msig\u001b[0m\u001b[1;33m.\u001b[0m\u001b[0mparameters\u001b[0m\u001b[1;33m,\u001b[0m \u001b[0margs\u001b[0m\u001b[1;33m)\u001b[0m\u001b[1;33m}\u001b[0m\u001b[1;33m)\u001b[0m\u001b[1;33m\u001b[0m\u001b[1;33m\u001b[0m\u001b[0m\n\u001b[1;32m---> 72\u001b[1;33m         \u001b[1;32mreturn\u001b[0m \u001b[0mf\u001b[0m\u001b[1;33m(\u001b[0m\u001b[1;33m**\u001b[0m\u001b[0mkwargs\u001b[0m\u001b[1;33m)\u001b[0m\u001b[1;33m\u001b[0m\u001b[1;33m\u001b[0m\u001b[0m\n\u001b[0m\u001b[0;32m     73\u001b[0m     \u001b[1;32mreturn\u001b[0m \u001b[0minner_f\u001b[0m\u001b[1;33m\u001b[0m\u001b[1;33m\u001b[0m\u001b[0m\n\u001b[0;32m     74\u001b[0m \u001b[1;33m\u001b[0m\u001b[0m\n",
            "\u001b[1;32mD:\\Anaconda\\lib\\site-packages\\sklearn\\utils\\validation.py\u001b[0m in \u001b[0;36mcheck_X_y\u001b[1;34m(X, y, accept_sparse, accept_large_sparse, dtype, order, copy, force_all_finite, ensure_2d, allow_nd, multi_output, ensure_min_samples, ensure_min_features, y_numeric, estimator)\u001b[0m\n\u001b[0;32m    793\u001b[0m         \u001b[1;32mraise\u001b[0m \u001b[0mValueError\u001b[0m\u001b[1;33m(\u001b[0m\u001b[1;34m\"y cannot be None\"\u001b[0m\u001b[1;33m)\u001b[0m\u001b[1;33m\u001b[0m\u001b[1;33m\u001b[0m\u001b[0m\n\u001b[0;32m    794\u001b[0m \u001b[1;33m\u001b[0m\u001b[0m\n\u001b[1;32m--> 795\u001b[1;33m     X = check_array(X, accept_sparse=accept_sparse,\n\u001b[0m\u001b[0;32m    796\u001b[0m                     \u001b[0maccept_large_sparse\u001b[0m\u001b[1;33m=\u001b[0m\u001b[0maccept_large_sparse\u001b[0m\u001b[1;33m,\u001b[0m\u001b[1;33m\u001b[0m\u001b[1;33m\u001b[0m\u001b[0m\n\u001b[0;32m    797\u001b[0m                     \u001b[0mdtype\u001b[0m\u001b[1;33m=\u001b[0m\u001b[0mdtype\u001b[0m\u001b[1;33m,\u001b[0m \u001b[0morder\u001b[0m\u001b[1;33m=\u001b[0m\u001b[0morder\u001b[0m\u001b[1;33m,\u001b[0m \u001b[0mcopy\u001b[0m\u001b[1;33m=\u001b[0m\u001b[0mcopy\u001b[0m\u001b[1;33m,\u001b[0m\u001b[1;33m\u001b[0m\u001b[1;33m\u001b[0m\u001b[0m\n",
            "\u001b[1;32mD:\\Anaconda\\lib\\site-packages\\sklearn\\utils\\validation.py\u001b[0m in \u001b[0;36minner_f\u001b[1;34m(*args, **kwargs)\u001b[0m\n\u001b[0;32m     70\u001b[0m                           FutureWarning)\n\u001b[0;32m     71\u001b[0m         \u001b[0mkwargs\u001b[0m\u001b[1;33m.\u001b[0m\u001b[0mupdate\u001b[0m\u001b[1;33m(\u001b[0m\u001b[1;33m{\u001b[0m\u001b[0mk\u001b[0m\u001b[1;33m:\u001b[0m \u001b[0marg\u001b[0m \u001b[1;32mfor\u001b[0m \u001b[0mk\u001b[0m\u001b[1;33m,\u001b[0m \u001b[0marg\u001b[0m \u001b[1;32min\u001b[0m \u001b[0mzip\u001b[0m\u001b[1;33m(\u001b[0m\u001b[0msig\u001b[0m\u001b[1;33m.\u001b[0m\u001b[0mparameters\u001b[0m\u001b[1;33m,\u001b[0m \u001b[0margs\u001b[0m\u001b[1;33m)\u001b[0m\u001b[1;33m}\u001b[0m\u001b[1;33m)\u001b[0m\u001b[1;33m\u001b[0m\u001b[1;33m\u001b[0m\u001b[0m\n\u001b[1;32m---> 72\u001b[1;33m         \u001b[1;32mreturn\u001b[0m \u001b[0mf\u001b[0m\u001b[1;33m(\u001b[0m\u001b[1;33m**\u001b[0m\u001b[0mkwargs\u001b[0m\u001b[1;33m)\u001b[0m\u001b[1;33m\u001b[0m\u001b[1;33m\u001b[0m\u001b[0m\n\u001b[0m\u001b[0;32m     73\u001b[0m     \u001b[1;32mreturn\u001b[0m \u001b[0minner_f\u001b[0m\u001b[1;33m\u001b[0m\u001b[1;33m\u001b[0m\u001b[0m\n\u001b[0;32m     74\u001b[0m \u001b[1;33m\u001b[0m\u001b[0m\n",
            "\u001b[1;32mD:\\Anaconda\\lib\\site-packages\\sklearn\\utils\\validation.py\u001b[0m in \u001b[0;36mcheck_array\u001b[1;34m(array, accept_sparse, accept_large_sparse, dtype, order, copy, force_all_finite, ensure_2d, allow_nd, ensure_min_samples, ensure_min_features, estimator)\u001b[0m\n\u001b[0;32m    596\u001b[0m                     \u001b[0marray\u001b[0m \u001b[1;33m=\u001b[0m \u001b[0marray\u001b[0m\u001b[1;33m.\u001b[0m\u001b[0mastype\u001b[0m\u001b[1;33m(\u001b[0m\u001b[0mdtype\u001b[0m\u001b[1;33m,\u001b[0m \u001b[0mcasting\u001b[0m\u001b[1;33m=\u001b[0m\u001b[1;34m\"unsafe\"\u001b[0m\u001b[1;33m,\u001b[0m \u001b[0mcopy\u001b[0m\u001b[1;33m=\u001b[0m\u001b[1;32mFalse\u001b[0m\u001b[1;33m)\u001b[0m\u001b[1;33m\u001b[0m\u001b[1;33m\u001b[0m\u001b[0m\n\u001b[0;32m    597\u001b[0m                 \u001b[1;32melse\u001b[0m\u001b[1;33m:\u001b[0m\u001b[1;33m\u001b[0m\u001b[1;33m\u001b[0m\u001b[0m\n\u001b[1;32m--> 598\u001b[1;33m                     \u001b[0marray\u001b[0m \u001b[1;33m=\u001b[0m \u001b[0mnp\u001b[0m\u001b[1;33m.\u001b[0m\u001b[0masarray\u001b[0m\u001b[1;33m(\u001b[0m\u001b[0marray\u001b[0m\u001b[1;33m,\u001b[0m \u001b[0morder\u001b[0m\u001b[1;33m=\u001b[0m\u001b[0morder\u001b[0m\u001b[1;33m,\u001b[0m \u001b[0mdtype\u001b[0m\u001b[1;33m=\u001b[0m\u001b[0mdtype\u001b[0m\u001b[1;33m)\u001b[0m\u001b[1;33m\u001b[0m\u001b[1;33m\u001b[0m\u001b[0m\n\u001b[0m\u001b[0;32m    599\u001b[0m             \u001b[1;32mexcept\u001b[0m \u001b[0mComplexWarning\u001b[0m\u001b[1;33m:\u001b[0m\u001b[1;33m\u001b[0m\u001b[1;33m\u001b[0m\u001b[0m\n\u001b[0;32m    600\u001b[0m                 raise ValueError(\"Complex data not supported\\n\"\n",
            "\u001b[1;32mD:\\Anaconda\\lib\\site-packages\\numpy\\core\\_asarray.py\u001b[0m in \u001b[0;36masarray\u001b[1;34m(a, dtype, order)\u001b[0m\n\u001b[0;32m     81\u001b[0m \u001b[1;33m\u001b[0m\u001b[0m\n\u001b[0;32m     82\u001b[0m     \"\"\"\n\u001b[1;32m---> 83\u001b[1;33m     \u001b[1;32mreturn\u001b[0m \u001b[0marray\u001b[0m\u001b[1;33m(\u001b[0m\u001b[0ma\u001b[0m\u001b[1;33m,\u001b[0m \u001b[0mdtype\u001b[0m\u001b[1;33m,\u001b[0m \u001b[0mcopy\u001b[0m\u001b[1;33m=\u001b[0m\u001b[1;32mFalse\u001b[0m\u001b[1;33m,\u001b[0m \u001b[0morder\u001b[0m\u001b[1;33m=\u001b[0m\u001b[0morder\u001b[0m\u001b[1;33m)\u001b[0m\u001b[1;33m\u001b[0m\u001b[1;33m\u001b[0m\u001b[0m\n\u001b[0m\u001b[0;32m     84\u001b[0m \u001b[1;33m\u001b[0m\u001b[0m\n\u001b[0;32m     85\u001b[0m \u001b[1;33m\u001b[0m\u001b[0m\n",
            "\u001b[1;32mD:\\Anaconda\\lib\\site-packages\\pandas\\core\\generic.py\u001b[0m in \u001b[0;36m__array__\u001b[1;34m(self, dtype)\u001b[0m\n\u001b[0;32m   1779\u001b[0m \u001b[1;33m\u001b[0m\u001b[0m\n\u001b[0;32m   1780\u001b[0m     \u001b[1;32mdef\u001b[0m \u001b[0m__array__\u001b[0m\u001b[1;33m(\u001b[0m\u001b[0mself\u001b[0m\u001b[1;33m,\u001b[0m \u001b[0mdtype\u001b[0m\u001b[1;33m=\u001b[0m\u001b[1;32mNone\u001b[0m\u001b[1;33m)\u001b[0m \u001b[1;33m->\u001b[0m \u001b[0mnp\u001b[0m\u001b[1;33m.\u001b[0m\u001b[0mndarray\u001b[0m\u001b[1;33m:\u001b[0m\u001b[1;33m\u001b[0m\u001b[1;33m\u001b[0m\u001b[0m\n\u001b[1;32m-> 1781\u001b[1;33m         \u001b[1;32mreturn\u001b[0m \u001b[0mnp\u001b[0m\u001b[1;33m.\u001b[0m\u001b[0masarray\u001b[0m\u001b[1;33m(\u001b[0m\u001b[0mself\u001b[0m\u001b[1;33m.\u001b[0m\u001b[0m_values\u001b[0m\u001b[1;33m,\u001b[0m \u001b[0mdtype\u001b[0m\u001b[1;33m=\u001b[0m\u001b[0mdtype\u001b[0m\u001b[1;33m)\u001b[0m\u001b[1;33m\u001b[0m\u001b[1;33m\u001b[0m\u001b[0m\n\u001b[0m\u001b[0;32m   1782\u001b[0m \u001b[1;33m\u001b[0m\u001b[0m\n\u001b[0;32m   1783\u001b[0m     \u001b[1;32mdef\u001b[0m \u001b[0m__array_wrap__\u001b[0m\u001b[1;33m(\u001b[0m\u001b[0mself\u001b[0m\u001b[1;33m,\u001b[0m \u001b[0mresult\u001b[0m\u001b[1;33m,\u001b[0m \u001b[0mcontext\u001b[0m\u001b[1;33m=\u001b[0m\u001b[1;32mNone\u001b[0m\u001b[1;33m)\u001b[0m\u001b[1;33m:\u001b[0m\u001b[1;33m\u001b[0m\u001b[1;33m\u001b[0m\u001b[0m\n",
            "\u001b[1;32mD:\\Anaconda\\lib\\site-packages\\numpy\\core\\_asarray.py\u001b[0m in \u001b[0;36masarray\u001b[1;34m(a, dtype, order)\u001b[0m\n\u001b[0;32m     81\u001b[0m \u001b[1;33m\u001b[0m\u001b[0m\n\u001b[0;32m     82\u001b[0m     \"\"\"\n\u001b[1;32m---> 83\u001b[1;33m     \u001b[1;32mreturn\u001b[0m \u001b[0marray\u001b[0m\u001b[1;33m(\u001b[0m\u001b[0ma\u001b[0m\u001b[1;33m,\u001b[0m \u001b[0mdtype\u001b[0m\u001b[1;33m,\u001b[0m \u001b[0mcopy\u001b[0m\u001b[1;33m=\u001b[0m\u001b[1;32mFalse\u001b[0m\u001b[1;33m,\u001b[0m \u001b[0morder\u001b[0m\u001b[1;33m=\u001b[0m\u001b[0morder\u001b[0m\u001b[1;33m)\u001b[0m\u001b[1;33m\u001b[0m\u001b[1;33m\u001b[0m\u001b[0m\n\u001b[0m\u001b[0;32m     84\u001b[0m \u001b[1;33m\u001b[0m\u001b[0m\n\u001b[0;32m     85\u001b[0m \u001b[1;33m\u001b[0m\u001b[0m\n",
            "\u001b[1;31mValueError\u001b[0m: could not convert string to float: 'Female'"
          ]
        }
      ]
    },
    {
      "cell_type": "code",
      "metadata": {
        "id": "yvdj-EJK1DZp"
      },
      "source": [
        ""
      ],
      "execution_count": null,
      "outputs": []
    }
  ]
}